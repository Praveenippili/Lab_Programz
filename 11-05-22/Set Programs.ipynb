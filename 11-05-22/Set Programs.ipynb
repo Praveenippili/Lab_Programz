{
 "cells": [
  {
   "cell_type": "markdown",
   "id": "d87319e4",
   "metadata": {},
   "source": [
    "# 1.check if two sets have any elements in common,if yes display the elements"
   ]
  },
  {
   "cell_type": "code",
   "execution_count": 2,
   "id": "0ce6667a",
   "metadata": {},
   "outputs": [
    {
     "name": "stdout",
     "output_type": "stream",
     "text": [
      "set1: {2, 3, 4, 5, 7, 8, 9}\n",
      "set2: {65, 1, 3, 4, 5, 22, 7}\n",
      "Common elements are: {3, 4, 5, 7}\n"
     ]
    }
   ],
   "source": [
    "s1={2,9,4,7,3,8,5}\n",
    "s2={3,65,1,22,5,7,4}\n",
    "print(\"set1:\",s1)\n",
    "print(\"set2:\",s2)\n",
    "if(s1.isdisjoint(s2)):\n",
    "    print(\"set1 and set2 have no elements in common\")\n",
    "else:\n",
    "    print(\"Common elements are:\",s1.intersection(s2))"
   ]
  },
  {
   "cell_type": "markdown",
   "id": "2ef4a982",
   "metadata": {},
   "source": [
    "# 2.Update set1 by adding items from set2,except common items "
   ]
  },
  {
   "cell_type": "code",
   "execution_count": 4,
   "id": "5ac4e321",
   "metadata": {},
   "outputs": [
    {
     "name": "stdout",
     "output_type": "stream",
     "text": [
      "{70, 10, 50, 60, 30}\n"
     ]
    }
   ],
   "source": [
    "s1={10,20,30,40}\n",
    "s2={50,60,20,40,70}\n",
    "s1.symmetric_difference_update(s2)\n",
    "print(s1)"
   ]
  },
  {
   "cell_type": "markdown",
   "id": "2af7e6d3",
   "metadata": {},
   "source": [
    "# 3.Remove items from set1 that are not common to both set1 and set2"
   ]
  },
  {
   "cell_type": "code",
   "execution_count": 5,
   "id": "bb533633",
   "metadata": {},
   "outputs": [
    {
     "name": "stdout",
     "output_type": "stream",
     "text": [
      "{0, 12}\n"
     ]
    }
   ],
   "source": [
    "s1={78,34,65,12,6,0}\n",
    "s2={23,5,9,2,12,5,0}\n",
    "s1.intersection_update(s2)\n",
    "print(s1)"
   ]
  },
  {
   "cell_type": "code",
   "execution_count": null,
   "id": "6511f480",
   "metadata": {},
   "outputs": [],
   "source": []
  }
 ],
 "metadata": {
  "kernelspec": {
   "display_name": "Python 3 (ipykernel)",
   "language": "python",
   "name": "python3"
  },
  "language_info": {
   "codemirror_mode": {
    "name": "ipython",
    "version": 3
   },
   "file_extension": ".py",
   "mimetype": "text/x-python",
   "name": "python",
   "nbconvert_exporter": "python",
   "pygments_lexer": "ipython3",
   "version": "3.10.4"
  }
 },
 "nbformat": 4,
 "nbformat_minor": 5
}
