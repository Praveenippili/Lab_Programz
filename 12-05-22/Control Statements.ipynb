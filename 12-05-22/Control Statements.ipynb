{
 "cells": [
  {
   "cell_type": "markdown",
   "id": "a800a327",
   "metadata": {},
   "source": [
    "# 1.Number is positive or negative"
   ]
  },
  {
   "cell_type": "code",
   "execution_count": 1,
   "id": "b4d851a4",
   "metadata": {},
   "outputs": [
    {
     "name": "stdout",
     "output_type": "stream",
     "text": [
      "Enter a number:7\n",
      "7 is positive number\n"
     ]
    }
   ],
   "source": [
    "n=int(input(\"Enter a number:\"))\n",
    "if n>0:\n",
    "    print(n,\"is positive number\")\n",
    "elif n==0:\n",
    "    print(\"Number is Zero\")\n",
    "else:\n",
    "    print(n,\"is negative number\")"
   ]
  },
  {
   "cell_type": "markdown",
   "id": "e9040f23",
   "metadata": {},
   "source": [
    "# 2.Number is Even or Odd"
   ]
  },
  {
   "cell_type": "code",
   "execution_count": 2,
   "id": "144277ef",
   "metadata": {},
   "outputs": [
    {
     "name": "stdout",
     "output_type": "stream",
     "text": [
      "Enter a number:6\n",
      "6 is even number\n"
     ]
    }
   ],
   "source": [
    "n=int(input(\"Enter a number:\"))\n",
    "if n%2==0:\n",
    "    print(n,\"is even number\")\n",
    "else:\n",
    "    print(n,\"is odd number\")"
   ]
  },
  {
   "cell_type": "markdown",
   "id": "19b9a9be",
   "metadata": {},
   "source": [
    "# 3.Leap year or not"
   ]
  },
  {
   "cell_type": "code",
   "execution_count": 3,
   "id": "4816d547",
   "metadata": {},
   "outputs": [
    {
     "name": "stdout",
     "output_type": "stream",
     "text": [
      "Enter a number:2003\n",
      "2003 is not a leap year\n"
     ]
    }
   ],
   "source": [
    "n=int(input(\"Enter a number:\"))\n",
    "if n%4==0:\n",
    "    if n%100==0:\n",
    "        if n%400==0:\n",
    "            print(n,\"is a leap year\")\n",
    "        else:\n",
    "            print(n,\"is not a leap year\")\n",
    "    else:\n",
    "        print(n,\"is a leap year\")\n",
    "else:\n",
    "    print(n,\"is not a leap year\")"
   ]
  },
  {
   "cell_type": "markdown",
   "id": "b6ce936a",
   "metadata": {},
   "source": [
    "# 4.Largest number among three numbers"
   ]
  },
  {
   "cell_type": "code",
   "execution_count": 5,
   "id": "d92ebc57",
   "metadata": {},
   "outputs": [
    {
     "name": "stdout",
     "output_type": "stream",
     "text": [
      "Enter first number:34\n",
      "Enter second number:56\n",
      "Enter third number:4\n",
      "56 is big\n"
     ]
    }
   ],
   "source": [
    "a=int(input(\"Enter first number:\"))\n",
    "b=int(input(\"Enter second number:\"))\n",
    "c=int(input(\"Enter third number:\"))\n",
    "if (a>b and a>c):\n",
    "    print(a,\"is big\")\n",
    "elif (b>c):\n",
    "    print(b,\"is big\")\n",
    "else:\n",
    "    print(c,\"is big\")"
   ]
  },
  {
   "cell_type": "markdown",
   "id": "3d0a0d3e",
   "metadata": {},
   "source": [
    "# 5.program to print number from 1-10 and 10-1"
   ]
  },
  {
   "cell_type": "code",
   "execution_count": 8,
   "id": "06aac696",
   "metadata": {},
   "outputs": [
    {
     "name": "stdout",
     "output_type": "stream",
     "text": [
      "Numbers from 1 to 10:\n",
      "1\n",
      "2\n",
      "3\n",
      "4\n",
      "5\n",
      "6\n",
      "7\n",
      "8\n",
      "9\n",
      "10\n",
      "Numbers from 10 to 1:\n",
      "10\n",
      "9\n",
      "8\n",
      "7\n",
      "6\n",
      "5\n",
      "4\n",
      "3\n",
      "2\n",
      "1\n"
     ]
    }
   ],
   "source": [
    "print(\"Numbers from 1 to 10:\")\n",
    "for i in range(1,11,1):\n",
    "    print(i)\n",
    "print(\"Numbers from 10 to 1:\")\n",
    "for i in range(10,0,-1):\n",
    "    print(i)"
   ]
  },
  {
   "cell_type": "markdown",
   "id": "99129433",
   "metadata": {},
   "source": [
    "# 6.Even and Odd numbers upto 100"
   ]
  },
  {
   "cell_type": "code",
   "execution_count": 12,
   "id": "830cffdf",
   "metadata": {},
   "outputs": [
    {
     "name": "stdout",
     "output_type": "stream",
     "text": [
      "Even numbers upto 100:\n",
      "2\n",
      "4\n",
      "6\n",
      "8\n",
      "10\n",
      "12\n",
      "14\n",
      "16\n",
      "18\n",
      "20\n",
      "22\n",
      "24\n",
      "26\n",
      "28\n",
      "30\n",
      "32\n",
      "34\n",
      "36\n",
      "38\n",
      "40\n",
      "42\n",
      "44\n",
      "46\n",
      "48\n",
      "50\n",
      "52\n",
      "54\n",
      "56\n",
      "58\n",
      "60\n",
      "62\n",
      "64\n",
      "66\n",
      "68\n",
      "70\n",
      "72\n",
      "74\n",
      "76\n",
      "78\n",
      "80\n",
      "82\n",
      "84\n",
      "86\n",
      "88\n",
      "90\n",
      "92\n",
      "94\n",
      "96\n",
      "98\n",
      "100\n"
     ]
    }
   ],
   "source": [
    "print(\"Even numbers upto 100:\")\n",
    "for i in range(2,101,2):\n",
    "    print(i)"
   ]
  },
  {
   "cell_type": "code",
   "execution_count": 14,
   "id": "4a973cfa",
   "metadata": {},
   "outputs": [
    {
     "name": "stdout",
     "output_type": "stream",
     "text": [
      "Odd numbers upto 100:\n",
      "1\n",
      "3\n",
      "5\n",
      "7\n",
      "9\n",
      "11\n",
      "13\n",
      "15\n",
      "17\n",
      "19\n",
      "21\n",
      "23\n",
      "25\n",
      "27\n",
      "29\n",
      "31\n",
      "33\n",
      "35\n",
      "37\n",
      "39\n",
      "41\n",
      "43\n",
      "45\n",
      "47\n",
      "49\n",
      "51\n",
      "53\n",
      "55\n",
      "57\n",
      "59\n",
      "61\n",
      "63\n",
      "65\n",
      "67\n",
      "69\n",
      "71\n",
      "73\n",
      "75\n",
      "77\n",
      "79\n",
      "81\n",
      "83\n",
      "85\n",
      "87\n",
      "89\n",
      "91\n",
      "93\n",
      "95\n",
      "97\n",
      "99\n"
     ]
    }
   ],
   "source": [
    "print(\"Odd numbers upto 100:\")\n",
    "for i in range(1,100,2):\n",
    "    print(i)"
   ]
  },
  {
   "cell_type": "markdown",
   "id": "a12528fb",
   "metadata": {},
   "source": [
    "# 7.program to print sum of n numbers"
   ]
  },
  {
   "cell_type": "code",
   "execution_count": 18,
   "id": "0e6c810c",
   "metadata": {},
   "outputs": [
    {
     "name": "stdout",
     "output_type": "stream",
     "text": [
      "Enter a number:100\n",
      "sum of 100 numbers is: 5050\n"
     ]
    }
   ],
   "source": [
    "n=int(input(\"Enter a number:\"))\n",
    "sum=0\n",
    "for i in range(1,n+1,1):\n",
    "    sum+=i\n",
    "print(f\"sum of {n} numbers is:\",sum)"
   ]
  },
  {
   "cell_type": "markdown",
   "id": "773ef6e9",
   "metadata": {},
   "source": [
    "# 8.program to print factorial of a number"
   ]
  },
  {
   "cell_type": "code",
   "execution_count": 19,
   "id": "fe506f7b",
   "metadata": {},
   "outputs": [
    {
     "name": "stdout",
     "output_type": "stream",
     "text": [
      "Enter a number:5\n",
      "factorial of 5: 120\n"
     ]
    }
   ],
   "source": [
    "n=int(input(\"Enter a number:\"))\n",
    "temp=1\n",
    "for i in range(1,n+1,1):\n",
    "    temp*=i\n",
    "print(f\"factorial of {n}:\",temp)"
   ]
  },
  {
   "cell_type": "markdown",
   "id": "a66fb86b",
   "metadata": {},
   "source": [
    "# 9.program to print sum of the squares of n numbers"
   ]
  },
  {
   "cell_type": "code",
   "execution_count": 20,
   "id": "9afb6ab7",
   "metadata": {},
   "outputs": [
    {
     "name": "stdout",
     "output_type": "stream",
     "text": [
      "Enter a number:8\n",
      "sum of squares of 8 numbers is: 204\n"
     ]
    }
   ],
   "source": [
    "n=int(input(\"Enter a number:\"))\n",
    "sum=0\n",
    "for i in range(1,n+1,1):\n",
    "    sum+=i*i\n",
    "print(f\"sum of squares of {n} numbers is:\",sum)"
   ]
  },
  {
   "cell_type": "markdown",
   "id": "b9d627df",
   "metadata": {},
   "source": [
    "# 10.program to check a number is prime or not"
   ]
  },
  {
   "cell_type": "code",
   "execution_count": 21,
   "id": "a64e0fc1",
   "metadata": {},
   "outputs": [
    {
     "name": "stdout",
     "output_type": "stream",
     "text": [
      "Enter a number:5\n",
      "5 is a prime number\n"
     ]
    }
   ],
   "source": [
    "n=int(input(\"Enter a number:\"))\n",
    "count=0\n",
    "if n>1:\n",
    "    for i in range(2,n):\n",
    "        if(n%i==0):\n",
    "            count=1\n",
    "        break\n",
    "if count==1:\n",
    "    print(n,\"is not a prime number\")\n",
    "else:\n",
    "    print(n,\"is a prime number\")"
   ]
  },
  {
   "cell_type": "markdown",
   "id": "2510b529",
   "metadata": {},
   "source": [
    "# 11.program to print prime numbers between some interval"
   ]
  },
  {
   "cell_type": "code",
   "execution_count": 28,
   "id": "3f4a4633",
   "metadata": {},
   "outputs": [
    {
     "name": "stdout",
     "output_type": "stream",
     "text": [
      "Enter the starting number:1\n",
      "Enter the ending number:100\n",
      "Prime numbers between 1 and 100 are:\n",
      "2\n",
      "3\n",
      "5\n",
      "7\n",
      "11\n",
      "13\n",
      "17\n",
      "19\n",
      "23\n",
      "29\n",
      "31\n",
      "37\n",
      "41\n",
      "43\n",
      "47\n",
      "53\n",
      "59\n",
      "61\n",
      "67\n",
      "71\n",
      "73\n",
      "79\n",
      "83\n",
      "89\n",
      "97\n"
     ]
    }
   ],
   "source": [
    "n=int(input(\"Enter the starting number:\"))\n",
    "m=int(input(\"Enter the ending number:\"))\n",
    "print(f\"Prime numbers between {n} and {m} are:\")\n",
    "for x in range(n,m+1):\n",
    "    if x>1:\n",
    "        for i in range(2,x):\n",
    "            if(x%i)==0:\n",
    "                break\n",
    "        else:\n",
    "            print(x)"
   ]
  },
  {
   "cell_type": "markdown",
   "id": "477cd269",
   "metadata": {},
   "source": [
    "# 12.Program to print fibonacci series"
   ]
  },
  {
   "cell_type": "code",
   "execution_count": 31,
   "id": "46a71a81",
   "metadata": {},
   "outputs": [
    {
     "name": "stdout",
     "output_type": "stream",
     "text": [
      "Enter a number:10\n",
      "0\n",
      "1\n",
      "1\n",
      "2\n",
      "3\n",
      "5\n",
      "8\n",
      "13\n",
      "21\n",
      "34\n"
     ]
    }
   ],
   "source": [
    "n=int(input(\"Enter a number:\"))\n",
    "a=0\n",
    "b=1\n",
    "print(a)\n",
    "print(b)\n",
    "for i in range(0,n-2,1):\n",
    "    s=a+b\n",
    "    a=b\n",
    "    b=s\n",
    "    print(s)"
   ]
  },
  {
   "cell_type": "markdown",
   "id": "90885ffe",
   "metadata": {},
   "source": [
    "# 13.Program to check armstrong number or not"
   ]
  },
  {
   "cell_type": "code",
   "execution_count": 34,
   "id": "59ff14a4",
   "metadata": {},
   "outputs": [
    {
     "name": "stdout",
     "output_type": "stream",
     "text": [
      "Enter a number:345\n",
      "345 is not armstrong\n"
     ]
    }
   ],
   "source": [
    "n=int(input(\"Enter a number:\"))\n",
    "temp=n\n",
    "sum=0\n",
    "while(temp>0):\n",
    "    c=temp%10\n",
    "    sum+=c**3\n",
    "    temp//=10\n",
    "if(sum==n):\n",
    "    print(n,\"is armstrong\")\n",
    "else:\n",
    "    print(n,\"is not armstrong\")"
   ]
  },
  {
   "cell_type": "markdown",
   "id": "1705c4e4",
   "metadata": {},
   "source": [
    "# 14.Program to check palindrome or not"
   ]
  },
  {
   "cell_type": "code",
   "execution_count": 35,
   "id": "1e455421",
   "metadata": {},
   "outputs": [
    {
     "name": "stdout",
     "output_type": "stream",
     "text": [
      "Enter a string or number:1234567\n",
      "1234567 is not a palindrome\n"
     ]
    }
   ],
   "source": [
    "n=input(\"Enter a string or number:\")\n",
    "temp=n[::-1]\n",
    "if(n==temp):\n",
    "    print(n,\"is palindrome\")\n",
    "else:\n",
    "    print(n,\"is not a palindrome\")"
   ]
  },
  {
   "cell_type": "markdown",
   "id": "05cde927",
   "metadata": {},
   "source": [
    "# 15.Program to check co-prime or not"
   ]
  },
  {
   "cell_type": "code",
   "execution_count": 36,
   "id": "85b0e798",
   "metadata": {},
   "outputs": [
    {
     "name": "stdout",
     "output_type": "stream",
     "text": [
      "Enter first number:45\n",
      "Enter second number:67\n",
      "45 67 are co-primes\n"
     ]
    }
   ],
   "source": [
    "a=int(input(\"Enter first number:\"))\n",
    "b=int(input(\"Enter second number:\"))\n",
    "x=min(a,b)\n",
    "for i in range(1,x+1):\n",
    "    if a%i==0 and b%i==0:\n",
    "        hcf=i\n",
    "if hcf==1:\n",
    "    print(a,b,\"are co-primes\")\n",
    "else:\n",
    "    print(a,b,\"are not co-primes\")"
   ]
  },
  {
   "cell_type": "code",
   "execution_count": null,
   "id": "760192de",
   "metadata": {},
   "outputs": [],
   "source": []
  }
 ],
 "metadata": {
  "kernelspec": {
   "display_name": "Python 3 (ipykernel)",
   "language": "python",
   "name": "python3"
  },
  "language_info": {
   "codemirror_mode": {
    "name": "ipython",
    "version": 3
   },
   "file_extension": ".py",
   "mimetype": "text/x-python",
   "name": "python",
   "nbconvert_exporter": "python",
   "pygments_lexer": "ipython3",
   "version": "3.10.4"
  }
 },
 "nbformat": 4,
 "nbformat_minor": 5
}
