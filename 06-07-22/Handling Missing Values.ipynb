{
 "cells": [
  {
   "cell_type": "code",
   "execution_count": 1,
   "id": "afc07482",
   "metadata": {},
   "outputs": [
    {
     "name": "stdout",
     "output_type": "stream",
     "text": [
      "     name      marks education   y.o.b\n",
      "0     Anu  19.234567       NaN  2003.0\n",
      "1    Mani  30.234560   diploma  1992.0\n",
      "2    Pari  21.234560       bsc  2000.0\n",
      "3  Suresh  30.345600       NaN  1991.0\n",
      "4   Jessi  10.456700       6th  2012.0\n",
      "5    Manu   7.456780       3rd  2015.0\n",
      "6     NaN  50.345670       8th     NaN\n",
      "7    jhon  12.346000       NaN  2010.0\n",
      "8    jack  45.345670    m.tech     NaN\n"
     ]
    }
   ],
   "source": [
    "import pandas as pd\n",
    "d=pd.read_csv(\"pari.csv\")\n",
    "print(d)"
   ]
  },
  {
   "cell_type": "code",
   "execution_count": 2,
   "id": "0a1e96c2",
   "metadata": {},
   "outputs": [
    {
     "data": {
      "text/html": [
       "<div>\n",
       "<style scoped>\n",
       "    .dataframe tbody tr th:only-of-type {\n",
       "        vertical-align: middle;\n",
       "    }\n",
       "\n",
       "    .dataframe tbody tr th {\n",
       "        vertical-align: top;\n",
       "    }\n",
       "\n",
       "    .dataframe thead th {\n",
       "        text-align: right;\n",
       "    }\n",
       "</style>\n",
       "<table border=\"1\" class=\"dataframe\">\n",
       "  <thead>\n",
       "    <tr style=\"text-align: right;\">\n",
       "      <th></th>\n",
       "      <th>name</th>\n",
       "      <th>marks</th>\n",
       "      <th>education</th>\n",
       "      <th>y.o.b</th>\n",
       "    </tr>\n",
       "  </thead>\n",
       "  <tbody>\n",
       "    <tr>\n",
       "      <th>0</th>\n",
       "      <td>False</td>\n",
       "      <td>False</td>\n",
       "      <td>True</td>\n",
       "      <td>False</td>\n",
       "    </tr>\n",
       "    <tr>\n",
       "      <th>1</th>\n",
       "      <td>False</td>\n",
       "      <td>False</td>\n",
       "      <td>False</td>\n",
       "      <td>False</td>\n",
       "    </tr>\n",
       "    <tr>\n",
       "      <th>2</th>\n",
       "      <td>False</td>\n",
       "      <td>False</td>\n",
       "      <td>False</td>\n",
       "      <td>False</td>\n",
       "    </tr>\n",
       "    <tr>\n",
       "      <th>3</th>\n",
       "      <td>False</td>\n",
       "      <td>False</td>\n",
       "      <td>True</td>\n",
       "      <td>False</td>\n",
       "    </tr>\n",
       "    <tr>\n",
       "      <th>4</th>\n",
       "      <td>False</td>\n",
       "      <td>False</td>\n",
       "      <td>False</td>\n",
       "      <td>False</td>\n",
       "    </tr>\n",
       "    <tr>\n",
       "      <th>5</th>\n",
       "      <td>False</td>\n",
       "      <td>False</td>\n",
       "      <td>False</td>\n",
       "      <td>False</td>\n",
       "    </tr>\n",
       "    <tr>\n",
       "      <th>6</th>\n",
       "      <td>True</td>\n",
       "      <td>False</td>\n",
       "      <td>False</td>\n",
       "      <td>True</td>\n",
       "    </tr>\n",
       "    <tr>\n",
       "      <th>7</th>\n",
       "      <td>False</td>\n",
       "      <td>False</td>\n",
       "      <td>True</td>\n",
       "      <td>False</td>\n",
       "    </tr>\n",
       "    <tr>\n",
       "      <th>8</th>\n",
       "      <td>False</td>\n",
       "      <td>False</td>\n",
       "      <td>False</td>\n",
       "      <td>True</td>\n",
       "    </tr>\n",
       "  </tbody>\n",
       "</table>\n",
       "</div>"
      ],
      "text/plain": [
       "    name  marks  education  y.o.b\n",
       "0  False  False       True  False\n",
       "1  False  False      False  False\n",
       "2  False  False      False  False\n",
       "3  False  False       True  False\n",
       "4  False  False      False  False\n",
       "5  False  False      False  False\n",
       "6   True  False      False   True\n",
       "7  False  False       True  False\n",
       "8  False  False      False   True"
      ]
     },
     "execution_count": 2,
     "metadata": {},
     "output_type": "execute_result"
    }
   ],
   "source": [
    "d.isnull()"
   ]
  },
  {
   "cell_type": "code",
   "execution_count": 3,
   "id": "6a44697f",
   "metadata": {},
   "outputs": [
    {
     "data": {
      "text/plain": [
       "name         1\n",
       "marks        0\n",
       "education    3\n",
       "y.o.b        2\n",
       "dtype: int64"
      ]
     },
     "execution_count": 3,
     "metadata": {},
     "output_type": "execute_result"
    }
   ],
   "source": [
    "d.isnull().sum()"
   ]
  },
  {
   "cell_type": "code",
   "execution_count": 4,
   "id": "c7915dbf",
   "metadata": {},
   "outputs": [
    {
     "data": {
      "text/plain": [
       "6"
      ]
     },
     "execution_count": 4,
     "metadata": {},
     "output_type": "execute_result"
    }
   ],
   "source": [
    "d.isnull().sum().sum()"
   ]
  },
  {
   "cell_type": "code",
   "execution_count": 5,
   "id": "371e26c9",
   "metadata": {},
   "outputs": [
    {
     "name": "stdout",
     "output_type": "stream",
     "text": [
      "     name      marks education   y.o.b\n",
      "0     Anu  19.234567         0  2003.0\n",
      "1    Mani  30.234560   diploma  1992.0\n",
      "2    Pari  21.234560       bsc  2000.0\n",
      "3  Suresh  30.345600         0  1991.0\n",
      "4   Jessi  10.456700       6th  2012.0\n",
      "5    Manu   7.456780       3rd  2015.0\n",
      "6       0  50.345670       8th     0.0\n",
      "7    jhon  12.346000         0  2010.0\n",
      "8    jack  45.345670    m.tech     0.0\n"
     ]
    }
   ],
   "source": [
    "df=d.fillna(value=0)\n",
    "print(df)"
   ]
  },
  {
   "cell_type": "code",
   "execution_count": 6,
   "id": "b818a409",
   "metadata": {},
   "outputs": [
    {
     "name": "stdout",
     "output_type": "stream",
     "text": [
      "     name      marks education   y.o.b\n",
      "0     Anu  19.234567       anu  2003.0\n",
      "1    Mani  30.234560   diploma  1992.0\n",
      "2    Pari  21.234560       bsc  2000.0\n",
      "3  Suresh  30.345600       anu  1991.0\n",
      "4   Jessi  10.456700       6th  2012.0\n",
      "5    Manu   7.456780       3rd  2015.0\n",
      "6     anu  50.345670       8th     anu\n",
      "7    jhon  12.346000       anu  2010.0\n",
      "8    jack  45.345670    m.tech     anu\n"
     ]
    }
   ],
   "source": [
    "df=d.fillna(value=\"anu\")\n",
    "print(df)"
   ]
  },
  {
   "cell_type": "code",
   "execution_count": 7,
   "id": "451788ad",
   "metadata": {},
   "outputs": [
    {
     "name": "stdout",
     "output_type": "stream",
     "text": [
      "     name      marks education   y.o.b\n",
      "0     Anu  19.234567       NaN  2003.0\n",
      "1    Mani  30.234560   diploma  1992.0\n",
      "2    Pari  21.234560       bsc  2000.0\n",
      "3  Suresh  30.345600       bsc  1991.0\n",
      "4   Jessi  10.456700       6th  2012.0\n",
      "5    Manu   7.456780       3rd  2015.0\n",
      "6    Manu  50.345670       8th  2015.0\n",
      "7    jhon  12.346000       8th  2010.0\n",
      "8    jack  45.345670    m.tech  2010.0\n"
     ]
    }
   ],
   "source": [
    "y=d.fillna(method=\"pad\")\n",
    "print(y)"
   ]
  },
  {
   "cell_type": "code",
   "execution_count": 8,
   "id": "9208dbaf",
   "metadata": {},
   "outputs": [
    {
     "name": "stdout",
     "output_type": "stream",
     "text": [
      "     name      marks education   y.o.b\n",
      "0     Anu  19.234567   diploma  2003.0\n",
      "1    Mani  30.234560   diploma  1992.0\n",
      "2    Pari  21.234560       bsc  2000.0\n",
      "3  Suresh  30.345600       6th  1991.0\n",
      "4   Jessi  10.456700       6th  2012.0\n",
      "5    Manu   7.456780       3rd  2015.0\n",
      "6    jhon  50.345670       8th  2010.0\n",
      "7    jhon  12.346000    m.tech  2010.0\n",
      "8    jack  45.345670    m.tech     NaN\n"
     ]
    }
   ],
   "source": [
    "y=d.fillna(method=\"bfill\")\n",
    "print(y)"
   ]
  },
  {
   "cell_type": "code",
   "execution_count": 9,
   "id": "aab87650",
   "metadata": {},
   "outputs": [
    {
     "name": "stdout",
     "output_type": "stream",
     "text": [
      "     name      marks  education   y.o.b\n",
      "0     Anu  19.234567  19.234567  2003.0\n",
      "1    Mani   30.23456    diploma  1992.0\n",
      "2    Pari   21.23456        bsc  2000.0\n",
      "3  Suresh    30.3456    30.3456  1991.0\n",
      "4   Jessi    10.4567        6th  2012.0\n",
      "5    Manu    7.45678        3rd  2015.0\n",
      "6     NaN   50.34567        8th     8th\n",
      "7    jhon     12.346     12.346  2010.0\n",
      "8    jack   45.34567     m.tech  m.tech\n"
     ]
    }
   ],
   "source": [
    "y=d.fillna(method=\"pad\",axis=1)\n",
    "print(y)"
   ]
  },
  {
   "cell_type": "code",
   "execution_count": 10,
   "id": "cd0ee7f6",
   "metadata": {},
   "outputs": [
    {
     "name": "stdout",
     "output_type": "stream",
     "text": [
      "       name      marks education   y.o.b\n",
      "0       Anu  19.234567    2003.0  2003.0\n",
      "1      Mani   30.23456   diploma  1992.0\n",
      "2      Pari   21.23456       bsc  2000.0\n",
      "3    Suresh    30.3456    1991.0  1991.0\n",
      "4     Jessi    10.4567       6th  2012.0\n",
      "5      Manu    7.45678       3rd  2015.0\n",
      "6  50.34567   50.34567       8th     NaN\n",
      "7      jhon     12.346    2010.0  2010.0\n",
      "8      jack   45.34567    m.tech     NaN\n"
     ]
    }
   ],
   "source": [
    "y=d.fillna(method=\"bfill\",axis=1)\n",
    "print(y)"
   ]
  },
  {
   "cell_type": "code",
   "execution_count": 14,
   "id": "3adeefa4",
   "metadata": {},
   "outputs": [
    {
     "name": "stdout",
     "output_type": "stream",
     "text": [
      "     name      marks education   y.o.b\n",
      "0     Anu  19.234567      10th  2003.0\n",
      "1    Mani  30.234560   diploma  1992.0\n",
      "2    Pari  21.234560       bsc  2000.0\n",
      "3  Suresh  30.345600      10th  1991.0\n",
      "4   Jessi  10.456700       6th  2012.0\n",
      "5    Manu   7.456780       3rd  2015.0\n",
      "6     NaN  50.345670       8th  2020.0\n",
      "7    jhon  12.346000      10th  2010.0\n",
      "8    jack  45.345670    m.tech  2020.0\n"
     ]
    }
   ],
   "source": [
    "y=d.fillna({\"y.o.b\":2020,\"education\":\"10th\"})\n",
    "print(y)"
   ]
  },
  {
   "cell_type": "code",
   "execution_count": 18,
   "id": "fac16b70",
   "metadata": {},
   "outputs": [
    {
     "name": "stdout",
     "output_type": "stream",
     "text": [
      "        name      marks  education        y.o.b\n",
      "0        Anu  19.234567  25.222234  2003.000000\n",
      "1       Mani  30.234560    diploma  1992.000000\n",
      "2       Pari  21.234560        bsc  2000.000000\n",
      "3     Suresh  30.345600  25.222234  1991.000000\n",
      "4      Jessi  10.456700        6th  2012.000000\n",
      "5       Manu   7.456780        3rd  2015.000000\n",
      "6  25.222234  50.345670        8th    25.222234\n",
      "7       jhon  12.346000  25.222234  2010.000000\n",
      "8       jack  45.345670     m.tech    25.222234\n"
     ]
    }
   ],
   "source": [
    "y=d.fillna(value=d[\"marks\"].mean())\n",
    "print(y)"
   ]
  },
  {
   "cell_type": "code",
   "execution_count": 19,
   "id": "601ce08b",
   "metadata": {},
   "outputs": [
    {
     "name": "stdout",
     "output_type": "stream",
     "text": [
      "       name      marks education       y.o.b\n",
      "0       Anu  19.234567  50.34567  2003.00000\n",
      "1      Mani  30.234560   diploma  1992.00000\n",
      "2      Pari  21.234560       bsc  2000.00000\n",
      "3    Suresh  30.345600  50.34567  1991.00000\n",
      "4     Jessi  10.456700       6th  2012.00000\n",
      "5      Manu   7.456780       3rd  2015.00000\n",
      "6  50.34567  50.345670       8th    50.34567\n",
      "7      jhon  12.346000  50.34567  2010.00000\n",
      "8      jack  45.345670    m.tech    50.34567\n"
     ]
    }
   ],
   "source": [
    "y=d.fillna(value=d[\"marks\"].max())\n",
    "print(y)"
   ]
  },
  {
   "cell_type": "code",
   "execution_count": 20,
   "id": "a8f5d9ca",
   "metadata": {},
   "outputs": [
    {
     "name": "stdout",
     "output_type": "stream",
     "text": [
      "      name      marks education       y.o.b\n",
      "0      Anu  19.234567   7.45678  2003.00000\n",
      "1     Mani  30.234560   diploma  1992.00000\n",
      "2     Pari  21.234560       bsc  2000.00000\n",
      "3   Suresh  30.345600   7.45678  1991.00000\n",
      "4    Jessi  10.456700       6th  2012.00000\n",
      "5     Manu   7.456780       3rd  2015.00000\n",
      "6  7.45678  50.345670       8th     7.45678\n",
      "7     jhon  12.346000   7.45678  2010.00000\n",
      "8     jack  45.345670    m.tech     7.45678\n"
     ]
    }
   ],
   "source": [
    "y=d.fillna(value=d[\"marks\"].min())\n",
    "print(y)"
   ]
  },
  {
   "cell_type": "code",
   "execution_count": 21,
   "id": "94dacc9d",
   "metadata": {},
   "outputs": [
    {
     "name": "stdout",
     "output_type": "stream",
     "text": [
      "     name      marks education   y.o.b\n",
      "0     Anu  19.234567      2204  2003.0\n",
      "1    Mani  30.234560   diploma  1992.0\n",
      "2    Pari  21.234560       bsc  2000.0\n",
      "3  Suresh  30.345600      2204  1991.0\n",
      "4   Jessi  10.456700       6th  2012.0\n",
      "5    Manu   7.456780       3rd  2015.0\n",
      "6    2204  50.345670       8th  2204.0\n",
      "7    jhon  12.346000      2204  2010.0\n",
      "8    jack  45.345670    m.tech  2204.0\n"
     ]
    }
   ],
   "source": [
    "import numpy as np\n",
    "x=d.replace(to_replace=np.nan,value=2204)\n",
    "print(x)"
   ]
  },
  {
   "cell_type": "code",
   "execution_count": 23,
   "id": "bf249086",
   "metadata": {},
   "outputs": [
    {
     "name": "stdout",
     "output_type": "stream",
     "text": [
      "     name      marks education   y.o.b\n",
      "0     Anu  19.234567       NaN  2003.0\n",
      "1    Mani  30.234560   diploma  1992.0\n",
      "2    Pari  21.234560       bsc  2000.0\n",
      "3  Suresh  30.345600       NaN  1991.0\n",
      "4   Jessi  10.456700       6th  2012.0\n",
      "5    Manu   7.456780       3rd  2015.0\n",
      "6     NaN  50.345670       8th     NaN\n",
      "7    jhon  12.346000       NaN  2010.0\n",
      "8    jack  45.345670    m.tech     NaN\n"
     ]
    }
   ],
   "source": [
    "d[\"marks\"]=d[\"marks\"].interpolate(method=\"linear\")\n",
    "print(d)"
   ]
  },
  {
   "cell_type": "code",
   "execution_count": 24,
   "id": "34e85117",
   "metadata": {},
   "outputs": [
    {
     "data": {
      "text/html": [
       "<div>\n",
       "<style scoped>\n",
       "    .dataframe tbody tr th:only-of-type {\n",
       "        vertical-align: middle;\n",
       "    }\n",
       "\n",
       "    .dataframe tbody tr th {\n",
       "        vertical-align: top;\n",
       "    }\n",
       "\n",
       "    .dataframe thead th {\n",
       "        text-align: right;\n",
       "    }\n",
       "</style>\n",
       "<table border=\"1\" class=\"dataframe\">\n",
       "  <thead>\n",
       "    <tr style=\"text-align: right;\">\n",
       "      <th></th>\n",
       "      <th>name</th>\n",
       "      <th>marks</th>\n",
       "      <th>education</th>\n",
       "      <th>y.o.b</th>\n",
       "    </tr>\n",
       "  </thead>\n",
       "  <tbody>\n",
       "    <tr>\n",
       "      <th>1</th>\n",
       "      <td>Mani</td>\n",
       "      <td>30.23456</td>\n",
       "      <td>diploma</td>\n",
       "      <td>1992.0</td>\n",
       "    </tr>\n",
       "    <tr>\n",
       "      <th>2</th>\n",
       "      <td>Pari</td>\n",
       "      <td>21.23456</td>\n",
       "      <td>bsc</td>\n",
       "      <td>2000.0</td>\n",
       "    </tr>\n",
       "    <tr>\n",
       "      <th>4</th>\n",
       "      <td>Jessi</td>\n",
       "      <td>10.45670</td>\n",
       "      <td>6th</td>\n",
       "      <td>2012.0</td>\n",
       "    </tr>\n",
       "    <tr>\n",
       "      <th>5</th>\n",
       "      <td>Manu</td>\n",
       "      <td>7.45678</td>\n",
       "      <td>3rd</td>\n",
       "      <td>2015.0</td>\n",
       "    </tr>\n",
       "  </tbody>\n",
       "</table>\n",
       "</div>"
      ],
      "text/plain": [
       "    name     marks education   y.o.b\n",
       "1   Mani  30.23456   diploma  1992.0\n",
       "2   Pari  21.23456       bsc  2000.0\n",
       "4  Jessi  10.45670       6th  2012.0\n",
       "5   Manu   7.45678       3rd  2015.0"
      ]
     },
     "execution_count": 24,
     "metadata": {},
     "output_type": "execute_result"
    }
   ],
   "source": [
    "d.dropna()"
   ]
  },
  {
   "cell_type": "code",
   "execution_count": 26,
   "id": "4f3b4c4d",
   "metadata": {},
   "outputs": [
    {
     "data": {
      "text/html": [
       "<div>\n",
       "<style scoped>\n",
       "    .dataframe tbody tr th:only-of-type {\n",
       "        vertical-align: middle;\n",
       "    }\n",
       "\n",
       "    .dataframe tbody tr th {\n",
       "        vertical-align: top;\n",
       "    }\n",
       "\n",
       "    .dataframe thead th {\n",
       "        text-align: right;\n",
       "    }\n",
       "</style>\n",
       "<table border=\"1\" class=\"dataframe\">\n",
       "  <thead>\n",
       "    <tr style=\"text-align: right;\">\n",
       "      <th></th>\n",
       "      <th>name</th>\n",
       "      <th>marks</th>\n",
       "      <th>education</th>\n",
       "      <th>y.o.b</th>\n",
       "    </tr>\n",
       "  </thead>\n",
       "  <tbody>\n",
       "    <tr>\n",
       "      <th>0</th>\n",
       "      <td>Anu</td>\n",
       "      <td>19.234567</td>\n",
       "      <td>NaN</td>\n",
       "      <td>2003.0</td>\n",
       "    </tr>\n",
       "    <tr>\n",
       "      <th>1</th>\n",
       "      <td>Mani</td>\n",
       "      <td>30.234560</td>\n",
       "      <td>diploma</td>\n",
       "      <td>1992.0</td>\n",
       "    </tr>\n",
       "    <tr>\n",
       "      <th>2</th>\n",
       "      <td>Pari</td>\n",
       "      <td>21.234560</td>\n",
       "      <td>bsc</td>\n",
       "      <td>2000.0</td>\n",
       "    </tr>\n",
       "    <tr>\n",
       "      <th>3</th>\n",
       "      <td>Suresh</td>\n",
       "      <td>30.345600</td>\n",
       "      <td>NaN</td>\n",
       "      <td>1991.0</td>\n",
       "    </tr>\n",
       "    <tr>\n",
       "      <th>4</th>\n",
       "      <td>Jessi</td>\n",
       "      <td>10.456700</td>\n",
       "      <td>6th</td>\n",
       "      <td>2012.0</td>\n",
       "    </tr>\n",
       "    <tr>\n",
       "      <th>5</th>\n",
       "      <td>Manu</td>\n",
       "      <td>7.456780</td>\n",
       "      <td>3rd</td>\n",
       "      <td>2015.0</td>\n",
       "    </tr>\n",
       "    <tr>\n",
       "      <th>6</th>\n",
       "      <td>NaN</td>\n",
       "      <td>50.345670</td>\n",
       "      <td>8th</td>\n",
       "      <td>NaN</td>\n",
       "    </tr>\n",
       "    <tr>\n",
       "      <th>7</th>\n",
       "      <td>jhon</td>\n",
       "      <td>12.346000</td>\n",
       "      <td>NaN</td>\n",
       "      <td>2010.0</td>\n",
       "    </tr>\n",
       "    <tr>\n",
       "      <th>8</th>\n",
       "      <td>jack</td>\n",
       "      <td>45.345670</td>\n",
       "      <td>m.tech</td>\n",
       "      <td>NaN</td>\n",
       "    </tr>\n",
       "  </tbody>\n",
       "</table>\n",
       "</div>"
      ],
      "text/plain": [
       "     name      marks education   y.o.b\n",
       "0     Anu  19.234567       NaN  2003.0\n",
       "1    Mani  30.234560   diploma  1992.0\n",
       "2    Pari  21.234560       bsc  2000.0\n",
       "3  Suresh  30.345600       NaN  1991.0\n",
       "4   Jessi  10.456700       6th  2012.0\n",
       "5    Manu   7.456780       3rd  2015.0\n",
       "6     NaN  50.345670       8th     NaN\n",
       "7    jhon  12.346000       NaN  2010.0\n",
       "8    jack  45.345670    m.tech     NaN"
      ]
     },
     "execution_count": 26,
     "metadata": {},
     "output_type": "execute_result"
    }
   ],
   "source": [
    "d.dropna(how=\"all\")"
   ]
  },
  {
   "cell_type": "code",
   "execution_count": 27,
   "id": "efb04d1c",
   "metadata": {},
   "outputs": [
    {
     "data": {
      "text/html": [
       "<div>\n",
       "<style scoped>\n",
       "    .dataframe tbody tr th:only-of-type {\n",
       "        vertical-align: middle;\n",
       "    }\n",
       "\n",
       "    .dataframe tbody tr th {\n",
       "        vertical-align: top;\n",
       "    }\n",
       "\n",
       "    .dataframe thead th {\n",
       "        text-align: right;\n",
       "    }\n",
       "</style>\n",
       "<table border=\"1\" class=\"dataframe\">\n",
       "  <thead>\n",
       "    <tr style=\"text-align: right;\">\n",
       "      <th></th>\n",
       "      <th>name</th>\n",
       "      <th>marks</th>\n",
       "      <th>education</th>\n",
       "      <th>y.o.b</th>\n",
       "    </tr>\n",
       "  </thead>\n",
       "  <tbody>\n",
       "    <tr>\n",
       "      <th>1</th>\n",
       "      <td>Mani</td>\n",
       "      <td>30.23456</td>\n",
       "      <td>diploma</td>\n",
       "      <td>1992.0</td>\n",
       "    </tr>\n",
       "    <tr>\n",
       "      <th>2</th>\n",
       "      <td>Pari</td>\n",
       "      <td>21.23456</td>\n",
       "      <td>bsc</td>\n",
       "      <td>2000.0</td>\n",
       "    </tr>\n",
       "    <tr>\n",
       "      <th>4</th>\n",
       "      <td>Jessi</td>\n",
       "      <td>10.45670</td>\n",
       "      <td>6th</td>\n",
       "      <td>2012.0</td>\n",
       "    </tr>\n",
       "    <tr>\n",
       "      <th>5</th>\n",
       "      <td>Manu</td>\n",
       "      <td>7.45678</td>\n",
       "      <td>3rd</td>\n",
       "      <td>2015.0</td>\n",
       "    </tr>\n",
       "  </tbody>\n",
       "</table>\n",
       "</div>"
      ],
      "text/plain": [
       "    name     marks education   y.o.b\n",
       "1   Mani  30.23456   diploma  1992.0\n",
       "2   Pari  21.23456       bsc  2000.0\n",
       "4  Jessi  10.45670       6th  2012.0\n",
       "5   Manu   7.45678       3rd  2015.0"
      ]
     },
     "execution_count": 27,
     "metadata": {},
     "output_type": "execute_result"
    }
   ],
   "source": [
    "d.dropna(how=\"any\")"
   ]
  },
  {
   "cell_type": "code",
   "execution_count": null,
   "id": "64eef85f",
   "metadata": {},
   "outputs": [],
   "source": []
  }
 ],
 "metadata": {
  "kernelspec": {
   "display_name": "Python 3 (ipykernel)",
   "language": "python",
   "name": "python3"
  },
  "language_info": {
   "codemirror_mode": {
    "name": "ipython",
    "version": 3
   },
   "file_extension": ".py",
   "mimetype": "text/x-python",
   "name": "python",
   "nbconvert_exporter": "python",
   "pygments_lexer": "ipython3",
   "version": "3.10.4"
  }
 },
 "nbformat": 4,
 "nbformat_minor": 5
}
