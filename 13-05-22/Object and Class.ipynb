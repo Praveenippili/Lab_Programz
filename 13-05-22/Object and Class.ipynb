{
 "cells": [
  {
   "cell_type": "code",
   "execution_count": 1,
   "id": "26a79986",
   "metadata": {},
   "outputs": [
    {
     "name": "stdout",
     "output_type": "stream",
     "text": [
      "Hello World\n"
     ]
    }
   ],
   "source": [
    "class anu:\n",
    "    def func(self):\n",
    "        print(\"Hello World\")\n",
    "x=anu()\n",
    "x.func()"
   ]
  },
  {
   "cell_type": "code",
   "execution_count": 2,
   "id": "d5e3628a",
   "metadata": {},
   "outputs": [
    {
     "name": "stdout",
     "output_type": "stream",
     "text": [
      "Anu\n",
      "Welcome!\n"
     ]
    }
   ],
   "source": [
    "class student:\n",
    "    def __init__(self,name):\n",
    "        self.name=name\n",
    "    def display(self):\n",
    "        print(self.name)\n",
    "    def func(self):\n",
    "        print(\"Welcome!\")\n",
    "x=student(\"Anu\")\n",
    "x.display()\n",
    "x.name\n",
    "x.func()"
   ]
  },
  {
   "cell_type": "code",
   "execution_count": 3,
   "id": "62b1ac1d",
   "metadata": {},
   "outputs": [
    {
     "name": "stdout",
     "output_type": "stream",
     "text": [
      "anu\n",
      "113\n",
      "pari\n",
      "114\n"
     ]
    }
   ],
   "source": [
    "class student:\n",
    "    def __init__(self,name,rno):\n",
    "        self.name=name\n",
    "        self.rno=rno\n",
    "    def display(self):\n",
    "        print(self.name)\n",
    "        print(self.rno)\n",
    "s1=student(\"anu\",113)\n",
    "s1.display()\n",
    "s2=student(\"pari\",114)\n",
    "s2.display()"
   ]
  },
  {
   "cell_type": "code",
   "execution_count": 4,
   "id": "f92479cf",
   "metadata": {},
   "outputs": [
    {
     "name": "stdout",
     "output_type": "stream",
     "text": [
      "tom & jerry\n",
      "tom\n",
      "doremon\n",
      "nobitha\n"
     ]
    }
   ],
   "source": [
    "class cartoon:\n",
    "    def __init__(self,name,character):\n",
    "        self.name=name\n",
    "        self.character=character\n",
    "    def display(self):\n",
    "        print(self.name)\n",
    "        print(self.character)\n",
    "a=cartoon(\"tom & jerry\",\"tom\")\n",
    "a.display()\n",
    "b=cartoon(\"doremon\",\"nobitha\")\n",
    "b.display()"
   ]
  },
  {
   "cell_type": "code",
   "execution_count": null,
   "id": "89720aa2",
   "metadata": {},
   "outputs": [],
   "source": []
  }
 ],
 "metadata": {
  "kernelspec": {
   "display_name": "Python 3 (ipykernel)",
   "language": "python",
   "name": "python3"
  },
  "language_info": {
   "codemirror_mode": {
    "name": "ipython",
    "version": 3
   },
   "file_extension": ".py",
   "mimetype": "text/x-python",
   "name": "python",
   "nbconvert_exporter": "python",
   "pygments_lexer": "ipython3",
   "version": "3.10.4"
  }
 },
 "nbformat": 4,
 "nbformat_minor": 5
}
