{
 "cells": [
  {
   "cell_type": "markdown",
   "id": "401c8c51",
   "metadata": {},
   "source": [
    "# 1.Program to find LCM"
   ]
  },
  {
   "cell_type": "code",
   "execution_count": 1,
   "id": "522268a2",
   "metadata": {},
   "outputs": [
    {
     "name": "stdout",
     "output_type": "stream",
     "text": [
      "Enter first number:15\n",
      "Enter second number:20\n",
      "lcm of 15 and 20 is 60\n"
     ]
    }
   ],
   "source": [
    "a=int(input(\"Enter first number:\"))\n",
    "b=int(input(\"Enter second number:\"))\n",
    "def lcm(x,y):\n",
    "    if x>y:\n",
    "        big=x\n",
    "    else:\n",
    "        big=y\n",
    "    while(True):\n",
    "        if((big%x==0)and(big%y==0)):\n",
    "            lcm=big\n",
    "            break\n",
    "        big+=1\n",
    "    return lcm\n",
    "print(f\"lcm of {a} and {b} is {lcm(a,b)}\")"
   ]
  },
  {
   "cell_type": "markdown",
   "id": "e9730cb6",
   "metadata": {},
   "source": [
    "# 2.Program to find HCF"
   ]
  },
  {
   "cell_type": "code",
   "execution_count": 2,
   "id": "6b5c2ff4",
   "metadata": {},
   "outputs": [
    {
     "name": "stdout",
     "output_type": "stream",
     "text": [
      "Enter first number:24\n",
      "Enter second number:54\n",
      "hcf of 24 and 54 is 6\n"
     ]
    }
   ],
   "source": [
    "a=int(input(\"Enter first number:\"))\n",
    "b=int(input(\"Enter second number:\"))\n",
    "def hcf(x,y):\n",
    "    if x>y:\n",
    "        small=x\n",
    "    else:\n",
    "        small=y\n",
    "    for i in range(1,small+1):\n",
    "        if((x%i==0)and(y%i==0)):\n",
    "            hcf=i\n",
    "    return hcf\n",
    "print(f\"hcf of {a} and {b} is {hcf(a,b)}\")"
   ]
  },
  {
   "cell_type": "markdown",
   "id": "9e1da43d",
   "metadata": {},
   "source": [
    "# 3.Function to calculate number of upper and lower case letters in a string"
   ]
  },
  {
   "cell_type": "code",
   "execution_count": 3,
   "id": "f327e8ac",
   "metadata": {},
   "outputs": [
    {
     "name": "stdout",
     "output_type": "stream",
     "text": [
      "Enter a string:madam\n",
      "Original String: madam\n",
      "Number of uppercase letters: 0\n",
      "Number of Lowercase letters: 5\n"
     ]
    }
   ],
   "source": [
    "m=input(\"Enter a string:\")\n",
    "def str(s):\n",
    "    d={\"u\":0,\"l\":0}\n",
    "    for i in s:\n",
    "        if i.isupper():\n",
    "            d[\"u\"]+=1\n",
    "        elif i.islower():\n",
    "            d[\"l\"]+=1\n",
    "        else:\n",
    "            pass\n",
    "    print(\"Original String:\",s)\n",
    "    print(\"Number of uppercase letters:\",d[\"u\"])\n",
    "    print(\"Number of Lowercase letters:\",d[\"l\"])\n",
    "str(m)"
   ]
  },
  {
   "cell_type": "markdown",
   "id": "73d60438",
   "metadata": {},
   "source": [
    "# 4.Fibonacci series i th number"
   ]
  },
  {
   "cell_type": "code",
   "execution_count": 5,
   "id": "1869854a",
   "metadata": {},
   "outputs": [
    {
     "name": "stdout",
     "output_type": "stream",
     "text": [
      "Enter a number:9\n"
     ]
    },
    {
     "data": {
      "text/plain": [
       "34"
      ]
     },
     "execution_count": 5,
     "metadata": {},
     "output_type": "execute_result"
    }
   ],
   "source": [
    "n=int(input(\"Enter a number:\"))\n",
    "def fib(n):\n",
    "    if n==0:\n",
    "        return 0\n",
    "    elif n==1:\n",
    "        return 1\n",
    "    else:\n",
    "        return fib(n-1)+fib(n-2)\n",
    "fib(n)"
   ]
  },
  {
   "cell_type": "code",
   "execution_count": null,
   "id": "a46567ad",
   "metadata": {},
   "outputs": [],
   "source": []
  }
 ],
 "metadata": {
  "kernelspec": {
   "display_name": "Python 3 (ipykernel)",
   "language": "python",
   "name": "python3"
  },
  "language_info": {
   "codemirror_mode": {
    "name": "ipython",
    "version": 3
   },
   "file_extension": ".py",
   "mimetype": "text/x-python",
   "name": "python",
   "nbconvert_exporter": "python",
   "pygments_lexer": "ipython3",
   "version": "3.10.4"
  }
 },
 "nbformat": 4,
 "nbformat_minor": 5
}
