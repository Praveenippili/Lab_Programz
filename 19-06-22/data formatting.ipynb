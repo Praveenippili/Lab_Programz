{
 "cells": [
  {
   "cell_type": "code",
   "execution_count": 42,
   "id": "b085fc55",
   "metadata": {},
   "outputs": [
    {
     "name": "stdout",
     "output_type": "stream",
     "text": [
      "     name      marks education  y.o.b\n",
      "0     Anu  19.234567       NaN   2003\n",
      "1    Mani  30.234560   diploma   1992\n",
      "2    Pari  21.234560       bsc   2000\n",
      "3  Suresh  30.345600       NaN   1991\n",
      "4   Jessi  10.456700       6th   2012\n",
      "5    Manu   7.456780       3rd   2015\n",
      "6     NaN  50.345670       8th   1880\n",
      "7    jhon  12.346000       NaN   2010\n",
      "8    jack  45.345670    m.tech   1885\n"
     ]
    }
   ],
   "source": [
    "import pandas as pd\n",
    "x=pd.read_csv(\"anu.csv\")\n",
    "print(x)"
   ]
  },
  {
   "cell_type": "code",
   "execution_count": 43,
   "id": "8898dae8",
   "metadata": {},
   "outputs": [
    {
     "data": {
      "text/html": [
       "<div>\n",
       "<style scoped>\n",
       "    .dataframe tbody tr th:only-of-type {\n",
       "        vertical-align: middle;\n",
       "    }\n",
       "\n",
       "    .dataframe tbody tr th {\n",
       "        vertical-align: top;\n",
       "    }\n",
       "\n",
       "    .dataframe thead th {\n",
       "        text-align: right;\n",
       "    }\n",
       "</style>\n",
       "<table border=\"1\" class=\"dataframe\">\n",
       "  <thead>\n",
       "    <tr style=\"text-align: right;\">\n",
       "      <th></th>\n",
       "      <th>name</th>\n",
       "      <th>marks</th>\n",
       "      <th>education</th>\n",
       "      <th>y.o.b</th>\n",
       "    </tr>\n",
       "  </thead>\n",
       "  <tbody>\n",
       "    <tr>\n",
       "      <th>1</th>\n",
       "      <td>Mani</td>\n",
       "      <td>30.23456</td>\n",
       "      <td>diploma</td>\n",
       "      <td>1992</td>\n",
       "    </tr>\n",
       "    <tr>\n",
       "      <th>2</th>\n",
       "      <td>Pari</td>\n",
       "      <td>21.23456</td>\n",
       "      <td>bsc</td>\n",
       "      <td>2000</td>\n",
       "    </tr>\n",
       "    <tr>\n",
       "      <th>4</th>\n",
       "      <td>Jessi</td>\n",
       "      <td>10.45670</td>\n",
       "      <td>6th</td>\n",
       "      <td>2012</td>\n",
       "    </tr>\n",
       "    <tr>\n",
       "      <th>5</th>\n",
       "      <td>Manu</td>\n",
       "      <td>7.45678</td>\n",
       "      <td>3rd</td>\n",
       "      <td>2015</td>\n",
       "    </tr>\n",
       "    <tr>\n",
       "      <th>8</th>\n",
       "      <td>jack</td>\n",
       "      <td>45.34567</td>\n",
       "      <td>m.tech</td>\n",
       "      <td>1885</td>\n",
       "    </tr>\n",
       "  </tbody>\n",
       "</table>\n",
       "</div>"
      ],
      "text/plain": [
       "    name     marks education  y.o.b\n",
       "1   Mani  30.23456   diploma   1992\n",
       "2   Pari  21.23456       bsc   2000\n",
       "4  Jessi  10.45670       6th   2012\n",
       "5   Manu   7.45678       3rd   2015\n",
       "8   jack  45.34567    m.tech   1885"
      ]
     },
     "execution_count": 43,
     "metadata": {},
     "output_type": "execute_result"
    }
   ],
   "source": [
    "x.dropna()"
   ]
  },
  {
   "cell_type": "code",
   "execution_count": 44,
   "id": "2b912960",
   "metadata": {},
   "outputs": [
    {
     "data": {
      "text/plain": [
       "name          object\n",
       "marks        float64\n",
       "education     object\n",
       "y.o.b          int64\n",
       "dtype: object"
      ]
     },
     "execution_count": 44,
     "metadata": {},
     "output_type": "execute_result"
    }
   ],
   "source": [
    "x.dtypes"
   ]
  },
  {
   "cell_type": "code",
   "execution_count": 45,
   "id": "e9df3b93",
   "metadata": {},
   "outputs": [
    {
     "data": {
      "text/plain": [
       "name          string\n",
       "marks        float64\n",
       "education     object\n",
       "y.o.b          int64\n",
       "dtype: object"
      ]
     },
     "execution_count": 45,
     "metadata": {},
     "output_type": "execute_result"
    }
   ],
   "source": [
    "x[\"name\"]=x[\"name\"].astype(\"string\")\n",
    "x.dtypes"
   ]
  },
  {
   "cell_type": "code",
   "execution_count": 46,
   "id": "fc929831",
   "metadata": {},
   "outputs": [
    {
     "data": {
      "text/plain": [
       "name          string\n",
       "marks        float64\n",
       "education     string\n",
       "y.o.b          int64\n",
       "dtype: object"
      ]
     },
     "execution_count": 46,
     "metadata": {},
     "output_type": "execute_result"
    }
   ],
   "source": [
    "o=x.select_dtypes(include=object).columns.tolist()\n",
    "x[o]=x[o].astype(\"string\")\n",
    "x.dtypes"
   ]
  },
  {
   "cell_type": "code",
   "execution_count": 47,
   "id": "e5381e90",
   "metadata": {},
   "outputs": [
    {
     "data": {
      "text/plain": [
       "<StringArray>\n",
       "['Anu', 'Mani', 'Pari', 'Suresh', 'Jessi', 'Manu', <NA>, 'jhon', 'jack']\n",
       "Length: 9, dtype: string"
      ]
     },
     "execution_count": 47,
     "metadata": {},
     "output_type": "execute_result"
    }
   ],
   "source": [
    "x[\"name\"].unique()"
   ]
  },
  {
   "cell_type": "code",
   "execution_count": 48,
   "id": "02f5b050",
   "metadata": {},
   "outputs": [
    {
     "data": {
      "text/plain": [
       "0    20.0\n",
       "1    31.0\n",
       "2    22.0\n",
       "3    31.0\n",
       "4    11.0\n",
       "5     8.0\n",
       "6    51.0\n",
       "7    13.0\n",
       "8    46.0\n",
       "Name: marks, dtype: float64"
      ]
     },
     "execution_count": 48,
     "metadata": {},
     "output_type": "execute_result"
    }
   ],
   "source": [
    "import numpy as np\n",
    "x[\"marks\"].apply(np.ceil)"
   ]
  },
  {
   "cell_type": "code",
   "execution_count": 49,
   "id": "a7fe66c0",
   "metadata": {},
   "outputs": [
    {
     "data": {
      "text/plain": [
       "0    19.0\n",
       "1    30.0\n",
       "2    21.0\n",
       "3    30.0\n",
       "4    10.0\n",
       "5     7.0\n",
       "6    50.0\n",
       "7    12.0\n",
       "8    45.0\n",
       "Name: marks, dtype: float64"
      ]
     },
     "execution_count": 49,
     "metadata": {},
     "output_type": "execute_result"
    }
   ],
   "source": [
    "import numpy as np\n",
    "x[\"marks\"].apply(np.floor)"
   ]
  },
  {
   "cell_type": "code",
   "execution_count": 50,
   "id": "80f63e1a",
   "metadata": {},
   "outputs": [
    {
     "name": "stdout",
     "output_type": "stream",
     "text": [
      "{7.45678: [5], 10.4567: [4], 12.346: [7], 19.234567: [0], 21.23456: [2], 30.23456: [1], 30.3456: [3], 45.34567: [8], 50.34567: [6]}\n"
     ]
    }
   ],
   "source": [
    "print(x.groupby(\"marks\").groups)"
   ]
  },
  {
   "cell_type": "code",
   "execution_count": null,
   "id": "d6257ca2",
   "metadata": {},
   "outputs": [],
   "source": []
  }
 ],
 "metadata": {
  "kernelspec": {
   "display_name": "Python 3 (ipykernel)",
   "language": "python",
   "name": "python3"
  },
  "language_info": {
   "codemirror_mode": {
    "name": "ipython",
    "version": 3
   },
   "file_extension": ".py",
   "mimetype": "text/x-python",
   "name": "python",
   "nbconvert_exporter": "python",
   "pygments_lexer": "ipython3",
   "version": "3.10.4"
  }
 },
 "nbformat": 4,
 "nbformat_minor": 5
}
