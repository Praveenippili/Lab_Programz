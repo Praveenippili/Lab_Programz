{
 "cells": [
  {
   "cell_type": "code",
   "execution_count": 1,
   "id": "811b9890",
   "metadata": {},
   "outputs": [
    {
     "name": "stdout",
     "output_type": "stream",
     "text": [
      "      Name  Age              Place\n",
      "0      Anu   19         Sompeta,AP\n",
      "1     Pari   21  Mumbai,Maharastra\n",
      "2     Manu    8        Sompeta, AP\n",
      "3    Jessi   11            SPT, AP\n",
      "4   Aayush   12          Mumbai,MH\n",
      "5  Aashish   10         MUMBAI, MH\n"
     ]
    }
   ],
   "source": [
    "import pandas as pd\n",
    "df=pd.read_csv(\"dataformat.csv\")\n",
    "print(df)"
   ]
  },
  {
   "cell_type": "code",
   "execution_count": 2,
   "id": "e3585e3d",
   "metadata": {},
   "outputs": [
    {
     "data": {
      "text/plain": [
       "Name     object\n",
       "Age       int64\n",
       "Place    object\n",
       "dtype: object"
      ]
     },
     "execution_count": 2,
     "metadata": {},
     "output_type": "execute_result"
    }
   ],
   "source": [
    "df.dtypes"
   ]
  },
  {
   "cell_type": "code",
   "execution_count": 3,
   "id": "85e5a196",
   "metadata": {},
   "outputs": [],
   "source": [
    "df[\"Place\"]=df[\"Place\"].astype('string')"
   ]
  },
  {
   "cell_type": "code",
   "execution_count": 4,
   "id": "a04087bc",
   "metadata": {},
   "outputs": [
    {
     "data": {
      "text/plain": [
       "Name     object\n",
       "Age       int64\n",
       "Place    string\n",
       "dtype: object"
      ]
     },
     "execution_count": 4,
     "metadata": {},
     "output_type": "execute_result"
    }
   ],
   "source": [
    "df.dtypes"
   ]
  },
  {
   "cell_type": "code",
   "execution_count": 5,
   "id": "b6887dbb",
   "metadata": {},
   "outputs": [],
   "source": [
    "c=df.select_dtypes(include=object).columns.tolist()\n",
    "df[c]=df[c].astype('string')"
   ]
  },
  {
   "cell_type": "code",
   "execution_count": 6,
   "id": "6e832deb",
   "metadata": {},
   "outputs": [
    {
     "data": {
      "text/plain": [
       "Name     string\n",
       "Age       int64\n",
       "Place    string\n",
       "dtype: object"
      ]
     },
     "execution_count": 6,
     "metadata": {},
     "output_type": "execute_result"
    }
   ],
   "source": [
    "df.dtypes"
   ]
  },
  {
   "cell_type": "code",
   "execution_count": 7,
   "id": "7d55a677",
   "metadata": {},
   "outputs": [],
   "source": [
    "df[\"Name\"]=df[\"Name\"].str.lower()"
   ]
  },
  {
   "cell_type": "code",
   "execution_count": 8,
   "id": "8e42f3dd",
   "metadata": {},
   "outputs": [
    {
     "data": {
      "text/plain": [
       "0        anu\n",
       "1       pari\n",
       "2       manu\n",
       "3      jessi\n",
       "4     aayush\n",
       "5    aashish\n",
       "Name: Name, dtype: string"
      ]
     },
     "execution_count": 8,
     "metadata": {},
     "output_type": "execute_result"
    }
   ],
   "source": [
    "df[\"Name\"]"
   ]
  },
  {
   "cell_type": "code",
   "execution_count": 9,
   "id": "ab783a5b",
   "metadata": {},
   "outputs": [],
   "source": [
    "df[\"Place\"]=df[\"Place\"].str.replace(\" \",\"\")"
   ]
  },
  {
   "cell_type": "code",
   "execution_count": 10,
   "id": "16380666",
   "metadata": {},
   "outputs": [
    {
     "data": {
      "text/plain": [
       "0           Sompeta,AP\n",
       "1    Mumbai,Maharastra\n",
       "2           Sompeta,AP\n",
       "3               SPT,AP\n",
       "4            Mumbai,MH\n",
       "5            MUMBAI,MH\n",
       "Name: Place, dtype: string"
      ]
     },
     "execution_count": 10,
     "metadata": {},
     "output_type": "execute_result"
    }
   ],
   "source": [
    "df[\"Place\"]"
   ]
  },
  {
   "cell_type": "code",
   "execution_count": 11,
   "id": "37b1b98b",
   "metadata": {},
   "outputs": [
    {
     "data": {
      "text/plain": [
       "<StringArray>\n",
       "['Sompeta,AP', 'Mumbai,Maharastra', 'SPT,AP', 'Mumbai,MH', 'MUMBAI,MH']\n",
       "Length: 5, dtype: string"
      ]
     },
     "execution_count": 11,
     "metadata": {},
     "output_type": "execute_result"
    }
   ],
   "source": [
    "df[\"Place\"].unique()"
   ]
  },
  {
   "cell_type": "code",
   "execution_count": 12,
   "id": "3f1cedc9",
   "metadata": {},
   "outputs": [],
   "source": [
    "import re\n",
    "def set_pattern(x):\n",
    "    pattern=r'[(A-Z)]\\w+,([A-Z])\\w+'\n",
    "    res=re.match(pattern,x)\n",
    "    if res:\n",
    "        x=x.replace(',',\",\")\n",
    "        return x"
   ]
  },
  {
   "cell_type": "code",
   "execution_count": 13,
   "id": "2426d5ff",
   "metadata": {},
   "outputs": [],
   "source": [
    "df[\"Place\"]=df.apply(lambda x:set_pattern(x[\"Place\"]),axis=1)"
   ]
  },
  {
   "cell_type": "code",
   "execution_count": 14,
   "id": "fb0fbeb3",
   "metadata": {},
   "outputs": [
    {
     "data": {
      "text/plain": [
       "0           Sompeta,AP\n",
       "1    Mumbai,Maharastra\n",
       "2           Sompeta,AP\n",
       "3               SPT,AP\n",
       "4            Mumbai,MH\n",
       "5            MUMBAI,MH\n",
       "Name: Place, dtype: object"
      ]
     },
     "execution_count": 14,
     "metadata": {},
     "output_type": "execute_result"
    }
   ],
   "source": [
    "df[\"Place\"]"
   ]
  },
  {
   "cell_type": "code",
   "execution_count": null,
   "id": "5f088e93",
   "metadata": {},
   "outputs": [],
   "source": []
  },
  {
   "cell_type": "code",
   "execution_count": null,
   "id": "4f16687c",
   "metadata": {},
   "outputs": [],
   "source": []
  }
 ],
 "metadata": {
  "kernelspec": {
   "display_name": "Python 3 (ipykernel)",
   "language": "python",
   "name": "python3"
  },
  "language_info": {
   "codemirror_mode": {
    "name": "ipython",
    "version": 3
   },
   "file_extension": ".py",
   "mimetype": "text/x-python",
   "name": "python",
   "nbconvert_exporter": "python",
   "pygments_lexer": "ipython3",
   "version": "3.10.4"
  }
 },
 "nbformat": 4,
 "nbformat_minor": 5
}
