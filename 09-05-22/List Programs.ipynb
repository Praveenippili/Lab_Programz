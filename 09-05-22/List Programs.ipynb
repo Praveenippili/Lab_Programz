{
 "cells": [
  {
   "cell_type": "markdown",
   "id": "70d1a4b6",
   "metadata": {},
   "source": [
    "# 1.Reverse the elements of the list"
   ]
  },
  {
   "cell_type": "code",
   "execution_count": 2,
   "id": "9b602cbd",
   "metadata": {},
   "outputs": [
    {
     "name": "stdout",
     "output_type": "stream",
     "text": [
      "Enter the Number of elements of the list:5\n",
      "Enter Element 0:12\n",
      "Enter Element 1:45\n",
      "Enter Element 2:67\n",
      "Enter Element 3:8\n",
      "Enter Element 4:5\n",
      "Original List: ['12', '45', '67', '8', '5']\n",
      "Reversed List: ['5', '8', '67', '45', '12']\n"
     ]
    }
   ],
   "source": [
    "l=[]\n",
    "n=int(input(\"Enter the Number of elements of the list:\"))\n",
    "for i in range(0,n):\n",
    "    x=input(f\"Enter Element {i}:\")\n",
    "    l.append(x)\n",
    "print(\"Original List:\",l)\n",
    "print(\"Reversed List:\",l[::-1])"
   ]
  },
  {
   "cell_type": "markdown",
   "id": "0f5935dd",
   "metadata": {},
   "source": [
    "# 2.Concatination of two lists index-wise"
   ]
  },
  {
   "cell_type": "code",
   "execution_count": 10,
   "id": "984934ef",
   "metadata": {},
   "outputs": [
    {
     "name": "stdout",
     "output_type": "stream",
     "text": [
      "[11, 22, 33, 44, 55, 66]\n"
     ]
    }
   ],
   "source": [
    "l1=[1,2,3,4,5,6]\n",
    "l2=[10,20,30,40,50,60]\n",
    "l3=[i+j for i,j in zip(l1,l2)]\n",
    "print(l3)"
   ]
  },
  {
   "cell_type": "markdown",
   "id": "7740826c",
   "metadata": {},
   "source": [
    "# 3.Turn every item of the list into its square"
   ]
  },
  {
   "cell_type": "code",
   "execution_count": 1,
   "id": "363c3f40",
   "metadata": {},
   "outputs": [
    {
     "name": "stdout",
     "output_type": "stream",
     "text": [
      "[1, 4, 9, 16, 25, 36, 49, 64, 81, 100]\n"
     ]
    }
   ],
   "source": [
    "l=[1,2,3,4,5,6,7,8,9,10]\n",
    "result=[i*i for i in l]\n",
    "print(result)"
   ]
  },
  {
   "cell_type": "markdown",
   "id": "e320ca4d",
   "metadata": {},
   "source": [
    "# 4.Turn every item of the list into its Cube"
   ]
  },
  {
   "cell_type": "code",
   "execution_count": 2,
   "id": "6c9726f0",
   "metadata": {},
   "outputs": [
    {
     "name": "stdout",
     "output_type": "stream",
     "text": [
      "[1, 8, 27, 64, 125, 216, 343, 512, 729, 1000]\n"
     ]
    }
   ],
   "source": [
    "l=[1,2,3,4,5,6,7,8,9,10]\n",
    "result=[i*i*i for i in l]\n",
    "print(result)"
   ]
  },
  {
   "cell_type": "markdown",
   "id": "df7b2be9",
   "metadata": {},
   "source": [
    "# 5.Itereate two lists simultaneously"
   ]
  },
  {
   "cell_type": "code",
   "execution_count": 3,
   "id": "534008c3",
   "metadata": {},
   "outputs": [
    {
     "name": "stdout",
     "output_type": "stream",
     "text": [
      "1 6\n",
      "2 7\n",
      "3 8\n",
      "4 9\n",
      "5 10\n"
     ]
    }
   ],
   "source": [
    "l1=[1,2,3,4,5]\n",
    "l2=[6,7,8,9,10]\n",
    "for i,j in zip(l1,l2):\n",
    "    print(i,j)"
   ]
  },
  {
   "cell_type": "code",
   "execution_count": null,
   "id": "c7166722",
   "metadata": {},
   "outputs": [],
   "source": []
  }
 ],
 "metadata": {
  "kernelspec": {
   "display_name": "Python 3 (ipykernel)",
   "language": "python",
   "name": "python3"
  },
  "language_info": {
   "codemirror_mode": {
    "name": "ipython",
    "version": 3
   },
   "file_extension": ".py",
   "mimetype": "text/x-python",
   "name": "python",
   "nbconvert_exporter": "python",
   "pygments_lexer": "ipython3",
   "version": "3.10.4"
  }
 },
 "nbformat": 4,
 "nbformat_minor": 5
}
