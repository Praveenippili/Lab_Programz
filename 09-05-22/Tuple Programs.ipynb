{
 "cells": [
  {
   "cell_type": "markdown",
   "id": "854ad0ca",
   "metadata": {},
   "source": [
    "# 1.Reverse the given tuple"
   ]
  },
  {
   "cell_type": "code",
   "execution_count": 2,
   "id": "d6abf664",
   "metadata": {},
   "outputs": [
    {
     "name": "stdout",
     "output_type": "stream",
     "text": [
      "Enter number of elements in the tuple:5\n",
      "Enter element 0:23\n",
      "Enter element 1:5\n",
      "Enter element 2:6\n",
      "Enter element 3:2\n",
      "Enter element 4:25\n",
      "Original Tuple ('23', '5', '6', '2', '25')\n",
      "Tuple in reverse order: ['25', '2', '6', '5', '23']\n"
     ]
    }
   ],
   "source": [
    "t=[]\n",
    "n=int(input(\"Enter number of elements in the tuple:\"))\n",
    "for i in range(0,n):\n",
    "    x=input(f\"Enter element {i}:\")\n",
    "    t.append(x)\n",
    "print(\"Original Tuple\",tuple(t))\n",
    "p=t[::-1]\n",
    "print(\"Tuple in reverse order:\",p)"
   ]
  },
  {
   "cell_type": "markdown",
   "id": "4d8f6aeb",
   "metadata": {},
   "source": [
    "# 2.Swap two tuples"
   ]
  },
  {
   "cell_type": "code",
   "execution_count": 3,
   "id": "bbd54143",
   "metadata": {},
   "outputs": [
    {
     "name": "stdout",
     "output_type": "stream",
     "text": [
      "list1: [1, 2, 3, 4]\n",
      "list2: [10, 20, 30, 40]\n",
      "After Swapping:\n",
      "list1: [10, 20, 30, 40]\n",
      "list2: [1, 2, 3, 4]\n"
     ]
    }
   ],
   "source": [
    "l1=[1,2,3,4]\n",
    "l2=[10,20,30,40]\n",
    "print(\"list1:\",l1)\n",
    "print(\"list2:\",l2)\n",
    "print(\"After Swapping:\")\n",
    "l1,l2=l2,l1\n",
    "print(\"list1:\",l1)\n",
    "print(\"list2:\",l2)"
   ]
  },
  {
   "cell_type": "markdown",
   "id": "7d4c2677",
   "metadata": {},
   "source": [
    "# 3.Count number of ocurrences of a item in the tuple"
   ]
  },
  {
   "cell_type": "code",
   "execution_count": 5,
   "id": "06e08c33",
   "metadata": {},
   "outputs": [
    {
     "name": "stdout",
     "output_type": "stream",
     "text": [
      "(10, 20, 30, 40, 50, 20)\n",
      "Enter the number you want to count:4\n",
      "0\n"
     ]
    }
   ],
   "source": [
    "l=(10,20,30,40,50,20)\n",
    "print(l)\n",
    "p=int(input(\"Enter the number you want to count:\"))\n",
    "print(l.count(p))"
   ]
  },
  {
   "cell_type": "code",
   "execution_count": null,
   "id": "73517041",
   "metadata": {},
   "outputs": [],
   "source": []
  }
 ],
 "metadata": {
  "kernelspec": {
   "display_name": "Python 3 (ipykernel)",
   "language": "python",
   "name": "python3"
  },
  "language_info": {
   "codemirror_mode": {
    "name": "ipython",
    "version": 3
   },
   "file_extension": ".py",
   "mimetype": "text/x-python",
   "name": "python",
   "nbconvert_exporter": "python",
   "pygments_lexer": "ipython3",
   "version": "3.10.4"
  }
 },
 "nbformat": 4,
 "nbformat_minor": 5
}
