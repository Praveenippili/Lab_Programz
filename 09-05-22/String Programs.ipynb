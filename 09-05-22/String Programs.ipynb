{
 "cells": [
  {
   "cell_type": "markdown",
   "id": "64e17d5f",
   "metadata": {},
   "source": [
    " # 1.String made of first middle and last character"
   ]
  },
  {
   "cell_type": "code",
   "execution_count": 3,
   "id": "8cfdac88",
   "metadata": {},
   "outputs": [
    {
     "name": "stdout",
     "output_type": "stream",
     "text": [
      "Enter a String:Anu Namala\n",
      "Aaa\n"
     ]
    }
   ],
   "source": [
    "n=input(\"Enter a String:\")\n",
    "l=len(n)\n",
    "string=n[0]+n[int(l/2)]+n[l-1]\n",
    "print(string)"
   ]
  },
  {
   "cell_type": "markdown",
   "id": "b560e628",
   "metadata": {},
   "source": [
    "# 2.String made of middle three characters"
   ]
  },
  {
   "cell_type": "code",
   "execution_count": 4,
   "id": "27cedf74",
   "metadata": {},
   "outputs": [
    {
     "name": "stdout",
     "output_type": "stream",
     "text": [
      "Enter a string:Parimala\n",
      "ima\n"
     ]
    }
   ],
   "source": [
    "n=input(\"Enter a string:\")\n",
    "l=int(len(n)/2)\n",
    "string=n[l-1]+n[l]+n[l+1]\n",
    "print(string)"
   ]
  },
  {
   "cell_type": "markdown",
   "id": "f9eefbbb",
   "metadata": {},
   "source": [
    "# 3.Append a new string in the middle of the given string"
   ]
  },
  {
   "cell_type": "code",
   "execution_count": 16,
   "id": "2beccbc9",
   "metadata": {},
   "outputs": [
    {
     "name": "stdout",
     "output_type": "stream",
     "text": [
      "Enter a string:anunamala\n",
      "Enter a string to be inserted:pari\n",
      "anunaparimala\n"
     ]
    }
   ],
   "source": [
    "a=input(\"Enter a string:\")\n",
    "b=input(\"Enter a string to be inserted:\")\n",
    "l=int(len(a)/2)\n",
    "x=a[:l+1]\n",
    "x=x+b\n",
    "x=x+a[l+1:]\n",
    "print(x)"
   ]
  },
  {
   "cell_type": "markdown",
   "id": "1ddefaf1",
   "metadata": {},
   "source": [
    "# 4.count all chars,digits and symbols in a string"
   ]
  },
  {
   "cell_type": "code",
   "execution_count": 17,
   "id": "265636f9",
   "metadata": {},
   "outputs": [
    {
     "name": "stdout",
     "output_type": "stream",
     "text": [
      "Enter a string:anu.namala04@gmail.com\n",
      "Charcters: 17\n",
      "Digits: 2\n",
      "Symbols: 3\n"
     ]
    }
   ],
   "source": [
    "n=input(\"Enter a string:\")\n",
    "chars=0\n",
    "digits=0\n",
    "symbols=0\n",
    "for i in n:\n",
    "    if(i.isalpha()):\n",
    "        chars+=1\n",
    "    elif(i.isdigit()):\n",
    "        digits+=1\n",
    "    else:\n",
    "        symbols+=1\n",
    "print(\"Charcters:\",chars)\n",
    "print(\"Digits:\",digits)\n",
    "print(\"Symbols:\",symbols)"
   ]
  },
  {
   "cell_type": "markdown",
   "id": "10b1a0c6",
   "metadata": {},
   "source": [
    "# 5.count occurences of all characters in a string"
   ]
  },
  {
   "cell_type": "code",
   "execution_count": 18,
   "id": "7535ef12",
   "metadata": {},
   "outputs": [
    {
     "name": "stdout",
     "output_type": "stream",
     "text": [
      "Enter a String:missisippi\n",
      "{'m': 1, 'i': 4, 's': 3, 'p': 2}\n"
     ]
    }
   ],
   "source": [
    "n=input(\"Enter a String:\")\n",
    "d=dict()\n",
    "for i in n:\n",
    "    count=n.count(i)\n",
    "    d[i]=count\n",
    "print(d)"
   ]
  },
  {
   "cell_type": "markdown",
   "id": "ee419853",
   "metadata": {},
   "source": [
    "# 6.Reverse a String"
   ]
  },
  {
   "cell_type": "code",
   "execution_count": 20,
   "id": "113e3c17",
   "metadata": {},
   "outputs": [
    {
     "name": "stdout",
     "output_type": "stream",
     "text": [
      "Enter a string:madam\n",
      "madam\n"
     ]
    }
   ],
   "source": [
    "n=input(\"Enter a string:\")\n",
    "print(n[::-1])"
   ]
  },
  {
   "cell_type": "markdown",
   "id": "a819661b",
   "metadata": {},
   "source": [
    "# 7.Swapping pairwise characters in a string"
   ]
  },
  {
   "cell_type": "code",
   "execution_count": 21,
   "id": "bb935ffd",
   "metadata": {},
   "outputs": [
    {
     "name": "stdout",
     "output_type": "stream",
     "text": [
      "Enter a string:anunamala\n",
      "nanumalaa\n"
     ]
    }
   ],
   "source": [
    "n=input(\"Enter a string:\")\n",
    "x=list(n)\n",
    "for i in range(0,len(x)-1,2):\n",
    "    x[i],x[i+1]=x[i+1],x[i]\n",
    "    a=\"\".join(x)\n",
    "print(a)"
   ]
  },
  {
   "cell_type": "code",
   "execution_count": null,
   "id": "02fd6591",
   "metadata": {},
   "outputs": [],
   "source": []
  }
 ],
 "metadata": {
  "kernelspec": {
   "display_name": "Python 3 (ipykernel)",
   "language": "python",
   "name": "python3"
  },
  "language_info": {
   "codemirror_mode": {
    "name": "ipython",
    "version": 3
   },
   "file_extension": ".py",
   "mimetype": "text/x-python",
   "name": "python",
   "nbconvert_exporter": "python",
   "pygments_lexer": "ipython3",
   "version": "3.10.4"
  }
 },
 "nbformat": 4,
 "nbformat_minor": 5
}
