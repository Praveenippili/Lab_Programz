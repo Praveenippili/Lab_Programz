{
 "cells": [
  {
   "cell_type": "code",
   "execution_count": 104,
   "id": "6d727ba2",
   "metadata": {},
   "outputs": [
    {
     "data": {
      "text/plain": [
       "17"
      ]
     },
     "execution_count": 104,
     "metadata": {},
     "output_type": "execute_result"
    }
   ],
   "source": [
    "a=\"Travel Is Therapy\"\n",
    "len(a)"
   ]
  },
  {
   "cell_type": "code",
   "execution_count": 105,
   "id": "3165129a",
   "metadata": {},
   "outputs": [
    {
     "name": "stdout",
     "output_type": "stream",
     "text": [
      "travel is therapy\n"
     ]
    }
   ],
   "source": [
    "print(a.lower())"
   ]
  },
  {
   "cell_type": "code",
   "execution_count": 106,
   "id": "e6a4a00b",
   "metadata": {},
   "outputs": [
    {
     "name": "stdout",
     "output_type": "stream",
     "text": [
      "TRAVEL IS THERAPY\n"
     ]
    }
   ],
   "source": [
    "print(a.upper())"
   ]
  },
  {
   "cell_type": "code",
   "execution_count": 107,
   "id": "f02c9352",
   "metadata": {},
   "outputs": [
    {
     "name": "stdout",
     "output_type": "stream",
     "text": [
      "Travel Is Therapy\n"
     ]
    }
   ],
   "source": [
    "print(a.title())"
   ]
  },
  {
   "cell_type": "code",
   "execution_count": 108,
   "id": "ee087fb2",
   "metadata": {},
   "outputs": [
    {
     "name": "stdout",
     "output_type": "stream",
     "text": [
      "Travel is therapy\n"
     ]
    }
   ],
   "source": [
    "print(a.capitalize())"
   ]
  },
  {
   "cell_type": "code",
   "execution_count": 109,
   "id": "eeff4bac",
   "metadata": {},
   "outputs": [
    {
     "name": "stdout",
     "output_type": "stream",
     "text": [
      "travel is therapy\n"
     ]
    }
   ],
   "source": [
    "print(a.casefold())"
   ]
  },
  {
   "cell_type": "code",
   "execution_count": 113,
   "id": "2666d7ac",
   "metadata": {},
   "outputs": [
    {
     "name": "stdout",
     "output_type": "stream",
     "text": [
      "      Travel Is Therapy       \n",
      "######Travel Is Therapy#######\n"
     ]
    }
   ],
   "source": [
    "print(a.center(30))\n",
    "print(a.center(30,\"#\"))"
   ]
  },
  {
   "cell_type": "code",
   "execution_count": 15,
   "id": "f882cbc0",
   "metadata": {},
   "outputs": [
    {
     "data": {
      "text/plain": [
       "2"
      ]
     },
     "execution_count": 15,
     "metadata": {},
     "output_type": "execute_result"
    }
   ],
   "source": [
    "a.count(\"T\")"
   ]
  },
  {
   "cell_type": "code",
   "execution_count": 16,
   "id": "b4fa4a66",
   "metadata": {},
   "outputs": [
    {
     "data": {
      "text/plain": [
       "b'Travel Is Therapy'"
      ]
     },
     "execution_count": 16,
     "metadata": {},
     "output_type": "execute_result"
    }
   ],
   "source": [
    "a.encode()"
   ]
  },
  {
   "cell_type": "code",
   "execution_count": 18,
   "id": "96bbef97",
   "metadata": {},
   "outputs": [
    {
     "data": {
      "text/plain": [
       "True"
      ]
     },
     "execution_count": 18,
     "metadata": {},
     "output_type": "execute_result"
    }
   ],
   "source": [
    "a.endswith(\"y\")"
   ]
  },
  {
   "cell_type": "code",
   "execution_count": 22,
   "id": "90032838",
   "metadata": {},
   "outputs": [
    {
     "data": {
      "text/plain": [
       "'Travel    Is        Therapy'"
      ]
     },
     "execution_count": 22,
     "metadata": {},
     "output_type": "execute_result"
    }
   ],
   "source": [
    "a=\"Travel\\tIs\\tTherapy\"\n",
    "a.expandtabs(10)"
   ]
  },
  {
   "cell_type": "code",
   "execution_count": 23,
   "id": "d5a64177",
   "metadata": {},
   "outputs": [
    {
     "data": {
      "text/plain": [
       "7"
      ]
     },
     "execution_count": 23,
     "metadata": {},
     "output_type": "execute_result"
    }
   ],
   "source": [
    "a=\"Travel Is Therapy\"\n",
    "a.find(\"I\")"
   ]
  },
  {
   "cell_type": "code",
   "execution_count": 25,
   "id": "ebb7d48e",
   "metadata": {},
   "outputs": [
    {
     "data": {
      "text/plain": [
       "'my name is anu'"
      ]
     },
     "execution_count": 25,
     "metadata": {},
     "output_type": "execute_result"
    }
   ],
   "source": [
    "a=\"my name is {}\"\n",
    "a.format(\"anu\")"
   ]
  },
  {
   "cell_type": "code",
   "execution_count": 27,
   "id": "6382fb88",
   "metadata": {},
   "outputs": [
    {
     "data": {
      "text/plain": [
       "'my name is anu,my sister name is pari'"
      ]
     },
     "execution_count": 27,
     "metadata": {},
     "output_type": "execute_result"
    }
   ],
   "source": [
    "a=\"my name is {},my sister name is {}\"\n",
    "a.format(\"anu\",\"pari\")"
   ]
  },
  {
   "cell_type": "code",
   "execution_count": 29,
   "id": "817573bc",
   "metadata": {},
   "outputs": [
    {
     "data": {
      "text/plain": [
       "\"anu's sister name is pari\""
      ]
     },
     "execution_count": 29,
     "metadata": {},
     "output_type": "execute_result"
    }
   ],
   "source": [
    "a=\"{x}'s sister name is {y}\"\n",
    "a.format_map({\"x\":\"anu\",\"y\":\"pari\"})"
   ]
  },
  {
   "cell_type": "code",
   "execution_count": 32,
   "id": "860ed3c7",
   "metadata": {},
   "outputs": [
    {
     "data": {
      "text/plain": [
       "False"
      ]
     },
     "execution_count": 32,
     "metadata": {},
     "output_type": "execute_result"
    }
   ],
   "source": [
    "a=\"anu 2204\"\n",
    "a.isalnum()"
   ]
  },
  {
   "cell_type": "code",
   "execution_count": 34,
   "id": "60455a5f",
   "metadata": {},
   "outputs": [
    {
     "data": {
      "text/plain": [
       "True"
      ]
     },
     "execution_count": 34,
     "metadata": {},
     "output_type": "execute_result"
    }
   ],
   "source": [
    "a=\"anu\"\n",
    "a.isalpha()"
   ]
  },
  {
   "cell_type": "code",
   "execution_count": 35,
   "id": "bf50871d",
   "metadata": {},
   "outputs": [
    {
     "data": {
      "text/plain": [
       "True"
      ]
     },
     "execution_count": 35,
     "metadata": {},
     "output_type": "execute_result"
    }
   ],
   "source": [
    "a=\"2204\"\n",
    "a.isdecimal()"
   ]
  },
  {
   "cell_type": "code",
   "execution_count": 38,
   "id": "cf0f8ea7",
   "metadata": {},
   "outputs": [
    {
     "name": "stdout",
     "output_type": "stream",
     "text": [
      "True\n",
      "False\n"
     ]
    }
   ],
   "source": [
    "a=\"\\u00B23455\"\n",
    "print(a.isdigit()) #2 subscript of 3455\n",
    "print(a.isdecimal())"
   ]
  },
  {
   "cell_type": "code",
   "execution_count": 40,
   "id": "199b62bc",
   "metadata": {},
   "outputs": [
    {
     "data": {
      "text/plain": [
       "True"
      ]
     },
     "execution_count": 40,
     "metadata": {},
     "output_type": "execute_result"
    }
   ],
   "source": [
    "a=\"anu2204\"\n",
    "a.isidentifier()"
   ]
  },
  {
   "cell_type": "code",
   "execution_count": 41,
   "id": "00b7fe9e",
   "metadata": {},
   "outputs": [
    {
     "data": {
      "text/plain": [
       "True"
      ]
     },
     "execution_count": 41,
     "metadata": {},
     "output_type": "execute_result"
    }
   ],
   "source": [
    "a.islower()"
   ]
  },
  {
   "cell_type": "code",
   "execution_count": 47,
   "id": "ae7d1c6a",
   "metadata": {},
   "outputs": [
    {
     "name": "stdout",
     "output_type": "stream",
     "text": [
      "½\n",
      "True\n",
      "False\n",
      "False\n"
     ]
    }
   ],
   "source": [
    "a=\"\\u00bd\" #1/2\n",
    "print(a)\n",
    "print(a.isnumeric())\n",
    "print(a.isdigit())\n",
    "print(a.isdecimal())"
   ]
  },
  {
   "cell_type": "code",
   "execution_count": 45,
   "id": "535c1a12",
   "metadata": {},
   "outputs": [
    {
     "data": {
      "text/plain": [
       "True"
      ]
     },
     "execution_count": 45,
     "metadata": {},
     "output_type": "execute_result"
    }
   ],
   "source": [
    "a.isprintable()"
   ]
  },
  {
   "cell_type": "code",
   "execution_count": 49,
   "id": "1a1870c7",
   "metadata": {},
   "outputs": [
    {
     "name": "stdout",
     "output_type": "stream",
     "text": [
      "False\n",
      "True\n"
     ]
    }
   ],
   "source": [
    "a=\"anu 2204\"\n",
    "b=\"           \"\n",
    "print(a.isspace())\n",
    "print(b.isspace())"
   ]
  },
  {
   "cell_type": "code",
   "execution_count": 50,
   "id": "7ce3b747",
   "metadata": {},
   "outputs": [
    {
     "data": {
      "text/plain": [
       "True"
      ]
     },
     "execution_count": 50,
     "metadata": {},
     "output_type": "execute_result"
    }
   ],
   "source": [
    "a=\"Travel Is Therapy\"\n",
    "a.istitle()"
   ]
  },
  {
   "cell_type": "code",
   "execution_count": 51,
   "id": "0ad0f61a",
   "metadata": {},
   "outputs": [
    {
     "data": {
      "text/plain": [
       "False"
      ]
     },
     "execution_count": 51,
     "metadata": {},
     "output_type": "execute_result"
    }
   ],
   "source": [
    "a.isupper()"
   ]
  },
  {
   "cell_type": "code",
   "execution_count": 53,
   "id": "ffc1f609",
   "metadata": {},
   "outputs": [
    {
     "data": {
      "text/plain": [
       "'1-->2-->3-->4'"
      ]
     },
     "execution_count": 53,
     "metadata": {},
     "output_type": "execute_result"
    }
   ],
   "source": [
    "s=[\"1\",\"2\",\"3\",\"4\"]\n",
    "a=\"-->\"\n",
    "a.join(s)"
   ]
  },
  {
   "cell_type": "code",
   "execution_count": 54,
   "id": "48a8b107",
   "metadata": {},
   "outputs": [
    {
     "data": {
      "text/plain": [
       "'anu  '"
      ]
     },
     "execution_count": 54,
     "metadata": {},
     "output_type": "execute_result"
    }
   ],
   "source": [
    "a=\"anu\"\n",
    "a.ljust(5)"
   ]
  },
  {
   "cell_type": "code",
   "execution_count": 56,
   "id": "842c5cd9",
   "metadata": {},
   "outputs": [
    {
     "data": {
      "text/plain": [
       "'anu@@'"
      ]
     },
     "execution_count": 56,
     "metadata": {},
     "output_type": "execute_result"
    }
   ],
   "source": [
    "a.ljust(5,\"@\")"
   ]
  },
  {
   "cell_type": "code",
   "execution_count": 58,
   "id": "c6e20913",
   "metadata": {},
   "outputs": [
    {
     "data": {
      "text/plain": [
       "'@@anu'"
      ]
     },
     "execution_count": 58,
     "metadata": {},
     "output_type": "execute_result"
    }
   ],
   "source": [
    "a.rjust(5,\"@\")"
   ]
  },
  {
   "cell_type": "code",
   "execution_count": 67,
   "id": "290174b9",
   "metadata": {},
   "outputs": [
    {
     "data": {
      "text/plain": [
       "'u'"
      ]
     },
     "execution_count": 67,
     "metadata": {},
     "output_type": "execute_result"
    }
   ],
   "source": [
    "a=\"aaaaanu\"\n",
    "a.lstrip(\"na\")"
   ]
  },
  {
   "cell_type": "code",
   "execution_count": 68,
   "id": "0f8c7089",
   "metadata": {},
   "outputs": [
    {
     "data": {
      "text/plain": [
       "'a'"
      ]
     },
     "execution_count": 68,
     "metadata": {},
     "output_type": "execute_result"
    }
   ],
   "source": [
    "a=\"anuuuuuuu\"\n",
    "a.rstrip(\"un\")"
   ]
  },
  {
   "cell_type": "code",
   "execution_count": 72,
   "id": "d8c5075b",
   "metadata": {},
   "outputs": [
    {
     "data": {
      "text/plain": [
       "'cccc bbbb cccc '"
      ]
     },
     "execution_count": 72,
     "metadata": {},
     "output_type": "execute_result"
    }
   ],
   "source": [
    "a=\"aaaa bbbb cccc dddd\" #1-replace 2-which charecter to replace 3-delete\n",
    "b=a.maketrans(\"a\",\"c\",\"d\")\n",
    "a.translate(b)"
   ]
  },
  {
   "cell_type": "code",
   "execution_count": 73,
   "id": "9d8849df",
   "metadata": {},
   "outputs": [
    {
     "data": {
      "text/plain": [
       "('anu ', 'is', ' good')"
      ]
     },
     "execution_count": 73,
     "metadata": {},
     "output_type": "execute_result"
    }
   ],
   "source": [
    "a=\"anu is good\"\n",
    "a.partition(\"is\")"
   ]
  },
  {
   "cell_type": "code",
   "execution_count": 74,
   "id": "741c4dda",
   "metadata": {},
   "outputs": [
    {
     "data": {
      "text/plain": [
       "('anu is good', '', '')"
      ]
     },
     "execution_count": 74,
     "metadata": {},
     "output_type": "execute_result"
    }
   ],
   "source": [
    "a.partition(\"m\")"
   ]
  },
  {
   "cell_type": "code",
   "execution_count": 75,
   "id": "d2791997",
   "metadata": {},
   "outputs": [
    {
     "data": {
      "text/plain": [
       "'pari loves pari because pari is good'"
      ]
     },
     "execution_count": 75,
     "metadata": {},
     "output_type": "execute_result"
    }
   ],
   "source": [
    "a=\"anu loves anu because anu is good\"\n",
    "a.replace(\"anu\",\"pari\")"
   ]
  },
  {
   "cell_type": "code",
   "execution_count": 76,
   "id": "04524a90",
   "metadata": {},
   "outputs": [
    {
     "data": {
      "text/plain": [
       "'pari loves pari because anu is good'"
      ]
     },
     "execution_count": 76,
     "metadata": {},
     "output_type": "execute_result"
    }
   ],
   "source": [
    "a.replace(\"anu\",\"pari\",2)"
   ]
  },
  {
   "cell_type": "code",
   "execution_count": 82,
   "id": "1986edd8",
   "metadata": {},
   "outputs": [
    {
     "name": "stdout",
     "output_type": "stream",
     "text": [
      "7\n",
      "4\n",
      "-1\n"
     ]
    }
   ],
   "source": [
    "a=\"anu is good\"\n",
    "print(a.rfind(\"g\"))\n",
    "print(a.rfind(\"i\",0,7))\n",
    "print(a.rfind(\"x\"))"
   ]
  },
  {
   "cell_type": "code",
   "execution_count": 84,
   "id": "aa4a347b",
   "metadata": {},
   "outputs": [
    {
     "name": "stdout",
     "output_type": "stream",
     "text": [
      "7\n",
      "4\n"
     ]
    },
    {
     "ename": "ValueError",
     "evalue": "substring not found",
     "output_type": "error",
     "traceback": [
      "\u001b[1;31m---------------------------------------------------------------------------\u001b[0m",
      "\u001b[1;31mValueError\u001b[0m                                Traceback (most recent call last)",
      "Input \u001b[1;32mIn [84]\u001b[0m, in \u001b[0;36m<cell line: 4>\u001b[1;34m()\u001b[0m\n\u001b[0;32m      2\u001b[0m \u001b[38;5;28mprint\u001b[39m(a\u001b[38;5;241m.\u001b[39mrindex(\u001b[38;5;124m\"\u001b[39m\u001b[38;5;124mg\u001b[39m\u001b[38;5;124m\"\u001b[39m))\n\u001b[0;32m      3\u001b[0m \u001b[38;5;28mprint\u001b[39m(a\u001b[38;5;241m.\u001b[39mrindex(\u001b[38;5;124m\"\u001b[39m\u001b[38;5;124mi\u001b[39m\u001b[38;5;124m\"\u001b[39m,\u001b[38;5;241m0\u001b[39m,\u001b[38;5;241m7\u001b[39m))\n\u001b[1;32m----> 4\u001b[0m \u001b[38;5;28mprint\u001b[39m(\u001b[43ma\u001b[49m\u001b[38;5;241;43m.\u001b[39;49m\u001b[43mrindex\u001b[49m\u001b[43m(\u001b[49m\u001b[38;5;124;43m\"\u001b[39;49m\u001b[38;5;124;43mx\u001b[39;49m\u001b[38;5;124;43m\"\u001b[39;49m\u001b[43m)\u001b[49m)\n",
      "\u001b[1;31mValueError\u001b[0m: substring not found"
     ]
    }
   ],
   "source": [
    "a=\"anu is gud\"\n",
    "print(a.rindex(\"g\"))\n",
    "print(a.rindex(\"i\",0,7))\n",
    "print(a.rindex(\"x\"))"
   ]
  },
  {
   "cell_type": "code",
   "execution_count": 85,
   "id": "6b9ae66e",
   "metadata": {},
   "outputs": [
    {
     "data": {
      "text/plain": [
       "('anu is g', 'u', 'd')"
      ]
     },
     "execution_count": 85,
     "metadata": {},
     "output_type": "execute_result"
    }
   ],
   "source": [
    "a.rpartition(\"u\")"
   ]
  },
  {
   "cell_type": "code",
   "execution_count": 87,
   "id": "af98508d",
   "metadata": {},
   "outputs": [
    {
     "name": "stdout",
     "output_type": "stream",
     "text": [
      "['anu', 'is', 'gud']\n",
      "['anu is', 'gud']\n"
     ]
    }
   ],
   "source": [
    "print(a.rsplit())\n",
    "print(a.rsplit(None,1))"
   ]
  },
  {
   "cell_type": "code",
   "execution_count": 96,
   "id": "2611bca6",
   "metadata": {},
   "outputs": [
    {
     "name": "stdout",
     "output_type": "stream",
     "text": [
      "['i', 'am', 'anu', 'namala']\n",
      "['i', 'am', 'anu', 'namala']\n",
      "['i\\n', 'am\\n', 'anu\\n', 'namala']\n",
      "['i\\n', 'am\\n', 'anu\\n', 'namala']\n"
     ]
    }
   ],
   "source": [
    "a=\"i\\nam\\nanu\\nnamala\"\n",
    "print(a.splitlines())\n",
    "print(a.splitlines(0))\n",
    "print(a.splitlines(1))\n",
    "print(a.splitlines(True))"
   ]
  },
  {
   "cell_type": "code",
   "execution_count": 97,
   "id": "7c462426",
   "metadata": {},
   "outputs": [
    {
     "data": {
      "text/plain": [
       "'anu'"
      ]
     },
     "execution_count": 97,
     "metadata": {},
     "output_type": "execute_result"
    }
   ],
   "source": [
    "a=\"@@@@@@@@anu@@@@@\"\n",
    "a.strip(\"@\")"
   ]
  },
  {
   "cell_type": "code",
   "execution_count": 98,
   "id": "dac7052f",
   "metadata": {},
   "outputs": [
    {
     "data": {
      "text/plain": [
       "'tRAVEL iS tHERAPY'"
      ]
     },
     "execution_count": 98,
     "metadata": {},
     "output_type": "execute_result"
    }
   ],
   "source": [
    "a=\"Travel Is Therapy\"\n",
    "a.swapcase()"
   ]
  },
  {
   "cell_type": "code",
   "execution_count": 100,
   "id": "8ec7c3fd",
   "metadata": {},
   "outputs": [
    {
     "name": "stdout",
     "output_type": "stream",
     "text": [
      "000anu\n",
      "anu\n"
     ]
    }
   ],
   "source": [
    "a=\"anu\"\n",
    "print(a.zfill(6))\n",
    "print(a.zfill(2))"
   ]
  },
  {
   "cell_type": "code",
   "execution_count": 101,
   "id": "cb266aa3",
   "metadata": {},
   "outputs": [
    {
     "name": "stdout",
     "output_type": "stream",
     "text": [
      "+00anu\n"
     ]
    }
   ],
   "source": [
    "a=\"+anu\"\n",
    "print(a.zfill(6))"
   ]
  },
  {
   "cell_type": "code",
   "execution_count": 102,
   "id": "4f8612fd",
   "metadata": {},
   "outputs": [
    {
     "name": "stdout",
     "output_type": "stream",
     "text": [
      "+000@anu\n"
     ]
    }
   ],
   "source": [
    "a=\"+@anu\"\n",
    "print(a.zfill(8))"
   ]
  },
  {
   "cell_type": "code",
   "execution_count": 103,
   "id": "42875fa4",
   "metadata": {},
   "outputs": [
    {
     "name": "stdout",
     "output_type": "stream",
     "text": [
      "-000+anu\n"
     ]
    }
   ],
   "source": [
    "a=\"-+anu\"\n",
    "print(a.zfill(8))"
   ]
  },
  {
   "cell_type": "code",
   "execution_count": 6,
   "id": "7e50f3af",
   "metadata": {},
   "outputs": [
    {
     "name": "stdout",
     "output_type": "stream",
     "text": [
      "        anu     namala\n",
      "  anu namala\n",
      "     anu  namala\n"
     ]
    }
   ],
   "source": [
    "a=\"\\tanu\\tnamala\"\n",
    "print(a.expandtabs())\n",
    "print(a.expandtabs(2))\n",
    "print(a.expandtabs(5))"
   ]
  }
 ],
 "metadata": {
  "kernelspec": {
   "display_name": "Python 3 (ipykernel)",
   "language": "python",
   "name": "python3"
  },
  "language_info": {
   "codemirror_mode": {
    "name": "ipython",
    "version": 3
   },
   "file_extension": ".py",
   "mimetype": "text/x-python",
   "name": "python",
   "nbconvert_exporter": "python",
   "pygments_lexer": "ipython3",
   "version": "3.10.4"
  }
 },
 "nbformat": 4,
 "nbformat_minor": 5
}
