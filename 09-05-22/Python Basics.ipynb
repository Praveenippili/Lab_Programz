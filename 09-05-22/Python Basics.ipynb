{
 "cells": [
  {
   "cell_type": "code",
   "execution_count": 1,
   "id": "7e483d90",
   "metadata": {},
   "outputs": [
    {
     "name": "stdout",
     "output_type": "stream",
     "text": [
      "Hello World!\n"
     ]
    }
   ],
   "source": [
    "print(\"Hello World!\")"
   ]
  },
  {
   "cell_type": "markdown",
   "id": "7f0cab19",
   "metadata": {},
   "source": [
    "# variables"
   ]
  },
  {
   "cell_type": "code",
   "execution_count": 2,
   "id": "9574920b",
   "metadata": {},
   "outputs": [
    {
     "name": "stdout",
     "output_type": "stream",
     "text": [
      "10\n",
      "20\n"
     ]
    }
   ],
   "source": [
    "a=10\n",
    "b=20\n",
    "print(a)\n",
    "print(b)"
   ]
  },
  {
   "cell_type": "markdown",
   "id": "591d5efb",
   "metadata": {},
   "source": [
    "# Operators"
   ]
  },
  {
   "cell_type": "code",
   "execution_count": 3,
   "id": "affc4fae",
   "metadata": {},
   "outputs": [
    {
     "name": "stdout",
     "output_type": "stream",
     "text": [
      "27.83\n",
      "<class 'float'>\n"
     ]
    }
   ],
   "source": [
    "x=25+2.83\n",
    "print(x)\n",
    "print(type(x))"
   ]
  },
  {
   "cell_type": "code",
   "execution_count": 4,
   "id": "e5239d5d",
   "metadata": {},
   "outputs": [
    {
     "name": "stdout",
     "output_type": "stream",
     "text": [
      "39\n"
     ]
    }
   ],
   "source": [
    "a=35\n",
    "b=4.8\n",
    "sum=a+int(b)\n",
    "print(sum)"
   ]
  },
  {
   "cell_type": "markdown",
   "id": "e369703f",
   "metadata": {},
   "source": [
    "# Unary Operators"
   ]
  },
  {
   "cell_type": "code",
   "execution_count": 5,
   "id": "cabab8ae",
   "metadata": {},
   "outputs": [
    {
     "name": "stdout",
     "output_type": "stream",
     "text": [
      "-55\n",
      "55\n",
      "-56\n"
     ]
    }
   ],
   "source": [
    "a=55\n",
    "print(-a)\n",
    "print(+a)\n",
    "print(~a)"
   ]
  },
  {
   "cell_type": "markdown",
   "id": "10a77b0e",
   "metadata": {},
   "source": [
    "# Arithmatic Operators"
   ]
  },
  {
   "cell_type": "code",
   "execution_count": 6,
   "id": "a95aa92f",
   "metadata": {},
   "outputs": [
    {
     "name": "stdout",
     "output_type": "stream",
     "text": [
      "x+y= 24\n",
      "x-y= 16\n",
      "x*y= 80\n",
      "x/y= 5.0\n",
      "x//y= 5\n",
      "x%y= 0\n",
      "x**y= 160000\n"
     ]
    }
   ],
   "source": [
    "x=20\n",
    "y=4\n",
    "print(\"x+y=\",x+y)\n",
    "print(\"x-y=\",x-y)\n",
    "print(\"x*y=\",x*y)\n",
    "print(\"x/y=\",x/y)\n",
    "print(\"x//y=\",x//y)\n",
    "print(\"x%y=\",x%y)\n",
    "print(\"x**y=\",x**y)"
   ]
  },
  {
   "cell_type": "markdown",
   "id": "9edb86a7",
   "metadata": {},
   "source": [
    "# Bitwise Operators"
   ]
  },
  {
   "cell_type": "code",
   "execution_count": 7,
   "id": "05326230",
   "metadata": {},
   "outputs": [
    {
     "name": "stdout",
     "output_type": "stream",
     "text": [
      "p&q= 3\n",
      "p|q= 15\n",
      "~p= -16\n",
      "~q= -4\n",
      "p>>1= 7\n",
      "q>>1= 1\n",
      "p>>2= 3\n",
      "q<<1= 6\n",
      "r>>1= -5\n",
      "r<<1= -20\n",
      "r<<2= -40\n"
     ]
    }
   ],
   "source": [
    "p=15\n",
    "q=3\n",
    "r=-10\n",
    "print(\"p&q=\",p&q)\n",
    "print(\"p|q=\",p|q)\n",
    "print(\"~p=\",~p)\n",
    "print(\"~q=\",~q)\n",
    "print(\"p>>1=\",p>>1)\n",
    "print(\"q>>1=\",q>>1)\n",
    "print(\"p>>2=\",p>>2)\n",
    "print(\"q<<1=\",q<<1)\n",
    "print(\"r>>1=\",r>>1)\n",
    "print(\"r<<1=\",r<<1)\n",
    "print(\"r<<2=\",r<<2)"
   ]
  },
  {
   "cell_type": "markdown",
   "id": "8093b626",
   "metadata": {},
   "source": [
    "# Comparision Operator"
   ]
  },
  {
   "cell_type": "code",
   "execution_count": 8,
   "id": "726f8b55",
   "metadata": {},
   "outputs": [
    {
     "name": "stdout",
     "output_type": "stream",
     "text": [
      "10>20 False\n",
      "10<20 True\n",
      "10==20 False\n",
      "10>=20 False\n",
      "10<=20 True\n",
      "10!=20 True\n"
     ]
    }
   ],
   "source": [
    "a=10\n",
    "b=20\n",
    "print(f\"{a}>{b}\",a>b)\n",
    "print(f\"{a}<{b}\",a<b)\n",
    "print(f\"{a}=={b}\",a==b)\n",
    "print(f\"{a}>={b}\",a>=b)\n",
    "print(f\"{a}<={b}\",a<=b)\n",
    "print(f\"{a}!={b}\",a!=b)"
   ]
  },
  {
   "cell_type": "markdown",
   "id": "1be46408",
   "metadata": {},
   "source": [
    "# Logical Operators"
   ]
  },
  {
   "cell_type": "code",
   "execution_count": 9,
   "id": "29742466",
   "metadata": {},
   "outputs": [
    {
     "name": "stdout",
     "output_type": "stream",
     "text": [
      "False\n",
      "False\n",
      "True\n",
      "True\n"
     ]
    }
   ],
   "source": [
    "x=(45==6)\n",
    "y=(6<4)\n",
    "print(x and y)\n",
    "print(x or y)\n",
    "print(not x)\n",
    "print(not y)"
   ]
  },
  {
   "cell_type": "markdown",
   "id": "4ce08fbe",
   "metadata": {},
   "source": [
    "# Expressions"
   ]
  },
  {
   "cell_type": "code",
   "execution_count": 10,
   "id": "6f3e1f42",
   "metadata": {},
   "outputs": [
    {
     "name": "stdout",
     "output_type": "stream",
     "text": [
      "31\n",
      "41.0\n"
     ]
    }
   ],
   "source": [
    "a=5+8+9*(3-1)\n",
    "print(a)\n",
    "b=(20/5)-3+8*5\n",
    "print(b)"
   ]
  },
  {
   "cell_type": "markdown",
   "id": "0262390b",
   "metadata": {},
   "source": [
    "# Combinational Expression"
   ]
  },
  {
   "cell_type": "code",
   "execution_count": 11,
   "id": "e688e036",
   "metadata": {},
   "outputs": [
    {
     "name": "stdout",
     "output_type": "stream",
     "text": [
      "45\n"
     ]
    }
   ],
   "source": [
    "a=34\n",
    "b=23\n",
    "c=a+(b>>1)\n",
    "print(c)"
   ]
  }
 ],
 "metadata": {
  "kernelspec": {
   "display_name": "Python 3 (ipykernel)",
   "language": "python",
   "name": "python3"
  },
  "language_info": {
   "codemirror_mode": {
    "name": "ipython",
    "version": 3
   },
   "file_extension": ".py",
   "mimetype": "text/x-python",
   "name": "python",
   "nbconvert_exporter": "python",
   "pygments_lexer": "ipython3",
   "version": "3.10.4"
  }
 },
 "nbformat": 4,
 "nbformat_minor": 5
}
