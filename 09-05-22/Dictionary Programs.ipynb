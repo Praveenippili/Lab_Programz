{
 "cells": [
  {
   "cell_type": "markdown",
   "id": "9e171ae4",
   "metadata": {},
   "source": [
    "# 1.Convert two lists into a dictionary"
   ]
  },
  {
   "cell_type": "code",
   "execution_count": 1,
   "id": "64509386",
   "metadata": {},
   "outputs": [
    {
     "name": "stdout",
     "output_type": "stream",
     "text": [
      "{'a': 1, 'b': 2, 'c': 3, 'd': 4}\n"
     ]
    }
   ],
   "source": [
    "# method-1\n",
    "x=[\"a\",\"b\",\"c\",\"d\"]\n",
    "y=[1,2,3,4]\n",
    "d=dict(zip(x,y))\n",
    "print(d)"
   ]
  },
  {
   "cell_type": "code",
   "execution_count": 2,
   "id": "fe290835",
   "metadata": {},
   "outputs": [
    {
     "name": "stdout",
     "output_type": "stream",
     "text": [
      "{'a': 1, 'b': 2, 'c': 3, 'd': 4}\n"
     ]
    }
   ],
   "source": [
    "# method-2\n",
    "d=dict()\n",
    "for i in range(len(x)):\n",
    "    d.update({x[i]:y[i]})\n",
    "print(d)"
   ]
  },
  {
   "cell_type": "markdown",
   "id": "27e752ba",
   "metadata": {},
   "source": [
    "# 2.Merge two python dictionaries into one"
   ]
  },
  {
   "cell_type": "code",
   "execution_count": 4,
   "id": "90192bf3",
   "metadata": {},
   "outputs": [
    {
     "name": "stdout",
     "output_type": "stream",
     "text": [
      "{'a': 1, 'b': 2, 'c': 3}\n",
      "{'d': 4, 'e': 5, 'f': 6}\n",
      "{'a': 1, 'b': 2, 'c': 3, 'd': 4, 'e': 5, 'f': 6}\n"
     ]
    }
   ],
   "source": [
    "x={\"a\":1,\"b\":2,\"c\":3}\n",
    "y={\"d\":4,\"e\":5,\"f\":6}\n",
    "print(x)\n",
    "print(y)\n",
    "x.update(y)\n",
    "print(x)"
   ]
  },
  {
   "cell_type": "markdown",
   "id": "18c919e9",
   "metadata": {},
   "source": [
    "# 3.Get the key of minimum value from dictionary"
   ]
  },
  {
   "cell_type": "code",
   "execution_count": 6,
   "id": "57ffe14a",
   "metadata": {},
   "outputs": [
    {
     "name": "stdout",
     "output_type": "stream",
     "text": [
      "Key with min value is b\n"
     ]
    }
   ],
   "source": [
    "d={\"a\":10,\"b\":2,\"c\":3,\"d\":4}\n",
    "print(\"Key with min value is\",min(d,key=d.get))"
   ]
  },
  {
   "cell_type": "code",
   "execution_count": null,
   "id": "ec99d92a",
   "metadata": {},
   "outputs": [],
   "source": []
  }
 ],
 "metadata": {
  "kernelspec": {
   "display_name": "Python 3 (ipykernel)",
   "language": "python",
   "name": "python3"
  },
  "language_info": {
   "codemirror_mode": {
    "name": "ipython",
    "version": 3
   },
   "file_extension": ".py",
   "mimetype": "text/x-python",
   "name": "python",
   "nbconvert_exporter": "python",
   "pygments_lexer": "ipython3",
   "version": "3.10.4"
  }
 },
 "nbformat": 4,
 "nbformat_minor": 5
}
