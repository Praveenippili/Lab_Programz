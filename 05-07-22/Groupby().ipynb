{
 "cells": [
  {
   "cell_type": "code",
   "execution_count": 3,
   "id": "0a82a0ed",
   "metadata": {},
   "outputs": [
    {
     "data": {
      "text/html": [
       "<div>\n",
       "<style scoped>\n",
       "    .dataframe tbody tr th:only-of-type {\n",
       "        vertical-align: middle;\n",
       "    }\n",
       "\n",
       "    .dataframe tbody tr th {\n",
       "        vertical-align: top;\n",
       "    }\n",
       "\n",
       "    .dataframe thead th {\n",
       "        text-align: right;\n",
       "    }\n",
       "</style>\n",
       "<table border=\"1\" class=\"dataframe\">\n",
       "  <thead>\n",
       "    <tr style=\"text-align: right;\">\n",
       "      <th></th>\n",
       "      <th>S.no</th>\n",
       "      <th>Name</th>\n",
       "      <th>Age</th>\n",
       "      <th>Fav Cartoon</th>\n",
       "      <th>Gender</th>\n",
       "    </tr>\n",
       "  </thead>\n",
       "  <tbody>\n",
       "    <tr>\n",
       "      <th>0</th>\n",
       "      <td>1</td>\n",
       "      <td>Anu</td>\n",
       "      <td>19</td>\n",
       "      <td>Doremon</td>\n",
       "      <td>F</td>\n",
       "    </tr>\n",
       "    <tr>\n",
       "      <th>1</th>\n",
       "      <td>2</td>\n",
       "      <td>Pari</td>\n",
       "      <td>21</td>\n",
       "      <td>Ninja</td>\n",
       "      <td>F</td>\n",
       "    </tr>\n",
       "    <tr>\n",
       "      <th>2</th>\n",
       "      <td>3</td>\n",
       "      <td>Manu</td>\n",
       "      <td>7</td>\n",
       "      <td>Dora</td>\n",
       "      <td>M</td>\n",
       "    </tr>\n",
       "    <tr>\n",
       "      <th>3</th>\n",
       "      <td>4</td>\n",
       "      <td>Jessi</td>\n",
       "      <td>10</td>\n",
       "      <td>Pokemon</td>\n",
       "      <td>F</td>\n",
       "    </tr>\n",
       "    <tr>\n",
       "      <th>4</th>\n",
       "      <td>5</td>\n",
       "      <td>Jack</td>\n",
       "      <td>11</td>\n",
       "      <td>Ferb</td>\n",
       "      <td>M</td>\n",
       "    </tr>\n",
       "    <tr>\n",
       "      <th>5</th>\n",
       "      <td>6</td>\n",
       "      <td>Jhon</td>\n",
       "      <td>16</td>\n",
       "      <td>Micky</td>\n",
       "      <td>M</td>\n",
       "    </tr>\n",
       "    <tr>\n",
       "      <th>6</th>\n",
       "      <td>7</td>\n",
       "      <td>Katy</td>\n",
       "      <td>23</td>\n",
       "      <td>Minni</td>\n",
       "      <td>M</td>\n",
       "    </tr>\n",
       "    <tr>\n",
       "      <th>7</th>\n",
       "      <td>8</td>\n",
       "      <td>Milon</td>\n",
       "      <td>30</td>\n",
       "      <td>Donald</td>\n",
       "      <td>M</td>\n",
       "    </tr>\n",
       "    <tr>\n",
       "      <th>8</th>\n",
       "      <td>9</td>\n",
       "      <td>Hydi</td>\n",
       "      <td>13</td>\n",
       "      <td>Goofy</td>\n",
       "      <td>F</td>\n",
       "    </tr>\n",
       "    <tr>\n",
       "      <th>9</th>\n",
       "      <td>10</td>\n",
       "      <td>Elle</td>\n",
       "      <td>4</td>\n",
       "      <td>Motu</td>\n",
       "      <td>F</td>\n",
       "    </tr>\n",
       "  </tbody>\n",
       "</table>\n",
       "</div>"
      ],
      "text/plain": [
       "   S.no   Name  Age Fav Cartoon Gender\n",
       "0     1    Anu   19     Doremon      F\n",
       "1     2   Pari   21       Ninja      F\n",
       "2     3   Manu    7        Dora      M\n",
       "3     4  Jessi   10     Pokemon      F\n",
       "4     5   Jack   11        Ferb      M\n",
       "5     6   Jhon   16       Micky      M\n",
       "6     7   Katy   23       Minni      M\n",
       "7     8  Milon   30      Donald      M\n",
       "8     9   Hydi   13       Goofy      F\n",
       "9    10   Elle    4        Motu      F"
      ]
     },
     "execution_count": 3,
     "metadata": {},
     "output_type": "execute_result"
    }
   ],
   "source": [
    "import pandas as pd\n",
    "df=pd.read_csv(\"pari1.csv\")\n",
    "df"
   ]
  },
  {
   "cell_type": "code",
   "execution_count": 4,
   "id": "d47ce9c8",
   "metadata": {},
   "outputs": [
    {
     "name": "stdout",
     "output_type": "stream",
     "text": [
      "        S.no   Age\n",
      "Gender            \n",
      "F        5.2  13.4\n",
      "M        5.8  17.4\n"
     ]
    }
   ],
   "source": [
    "print(df.groupby([\"Gender\"]).mean())"
   ]
  },
  {
   "cell_type": "code",
   "execution_count": 6,
   "id": "e825c63e",
   "metadata": {},
   "outputs": [
    {
     "name": "stdout",
     "output_type": "stream",
     "text": [
      "{('F', 'Doremon'): [0], ('F', 'Goofy'): [8], ('F', 'Motu'): [9], ('F', 'Ninja'): [1], ('F', 'Pokemon'): [3], ('M', 'Donald'): [7], ('M', 'Dora'): [2], ('M', 'Ferb'): [4], ('M', 'Micky'): [5], ('M', 'Minni'): [6]}\n"
     ]
    }
   ],
   "source": [
    "a=df.groupby([\"Gender\",\"Fav Cartoon\"])\n",
    "print(a.groups)"
   ]
  },
  {
   "cell_type": "code",
   "execution_count": 7,
   "id": "d0d70267",
   "metadata": {},
   "outputs": [
    {
     "name": "stdout",
     "output_type": "stream",
     "text": [
      "        S.no   Name  Age Fav Cartoon\n",
      "Gender                              \n",
      "F         10   Pari   21     Pokemon\n",
      "M          8  Milon   30       Minni\n"
     ]
    }
   ],
   "source": [
    "print(df.groupby([\"Gender\"]).max())"
   ]
  },
  {
   "cell_type": "code",
   "execution_count": 8,
   "id": "9d1fa0a0",
   "metadata": {},
   "outputs": [
    {
     "name": "stdout",
     "output_type": "stream",
     "text": [
      "{'Donald': [7], 'Dora': [2], 'Doremon': [0], 'Ferb': [4], 'Goofy': [8], 'Micky': [5], 'Minni': [6], 'Motu': [9], 'Ninja': [1], 'Pokemon': [3]}\n"
     ]
    }
   ],
   "source": [
    "print(df.groupby([\"Fav Cartoon\"]).groups)"
   ]
  },
  {
   "cell_type": "code",
   "execution_count": 10,
   "id": "f07af312",
   "metadata": {},
   "outputs": [
    {
     "name": "stdout",
     "output_type": "stream",
     "text": [
      "   S.no   Name  Age Fav Cartoon Gender\n",
      "2     3   Manu    7        Dora      M\n",
      "4     5   Jack   11        Ferb      M\n",
      "5     6   Jhon   16       Micky      M\n",
      "6     7   Katy   23       Minni      M\n",
      "7     8  Milon   30      Donald      M\n"
     ]
    }
   ],
   "source": [
    "a=df.groupby([\"Gender\"])\n",
    "print(a.get_group(\"M\"))"
   ]
  },
  {
   "cell_type": "code",
   "execution_count": 11,
   "id": "69802c86",
   "metadata": {},
   "outputs": [
    {
     "data": {
      "text/plain": [
       "F    5\n",
       "M    5\n",
       "Name: Gender, dtype: int64"
      ]
     },
     "execution_count": 11,
     "metadata": {},
     "output_type": "execute_result"
    }
   ],
   "source": [
    "df[\"Gender\"].value_counts()"
   ]
  },
  {
   "cell_type": "code",
   "execution_count": null,
   "id": "1046131d",
   "metadata": {},
   "outputs": [],
   "source": []
  }
 ],
 "metadata": {
  "kernelspec": {
   "display_name": "Python 3 (ipykernel)",
   "language": "python",
   "name": "python3"
  },
  "language_info": {
   "codemirror_mode": {
    "name": "ipython",
    "version": 3
   },
   "file_extension": ".py",
   "mimetype": "text/x-python",
   "name": "python",
   "nbconvert_exporter": "python",
   "pygments_lexer": "ipython3",
   "version": "3.10.4"
  }
 },
 "nbformat": 4,
 "nbformat_minor": 5
}
