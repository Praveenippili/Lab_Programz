{
 "cells": [
  {
   "cell_type": "markdown",
   "id": "1d32e3c5",
   "metadata": {},
   "source": [
    "# counting number of images in a website"
   ]
  },
  {
   "cell_type": "code",
   "execution_count": 3,
   "id": "e54b41f7",
   "metadata": {},
   "outputs": [
    {
     "name": "stdout",
     "output_type": "stream",
     "text": [
      "Number of images are: 55\n"
     ]
    }
   ],
   "source": [
    "import requests\n",
    "page=requests.get(\"https://www.flipkart.com/\")\n",
    "from bs4 import BeautifulSoup\n",
    "Soup=BeautifulSoup(page.content,\"html.parser\")\n",
    "x=Soup.find_all(\"img\")\n",
    "count=0\n",
    "for image in x:\n",
    "    count+=1\n",
    "print(\"Number of images are:\",count)"
   ]
  },
  {
   "cell_type": "markdown",
   "id": "ebd3331d",
   "metadata": {},
   "source": [
    "# program to find mean,median,mode and standard deviation and variance"
   ]
  },
  {
   "cell_type": "code",
   "execution_count": 4,
   "id": "8b1757c3",
   "metadata": {},
   "outputs": [
    {
     "name": "stdout",
     "output_type": "stream",
     "text": [
      "mean: 5.25\n",
      "median: 4.5\n",
      "S.D: 2.659215781283755\n",
      "variance: 7.071428571428572\n",
      "mode: 0    4\n",
      "dtype: int64\n"
     ]
    }
   ],
   "source": [
    "import pandas as pd\n",
    "x=pd.Series([10,2,3,4,5,4,6,8])\n",
    "print(\"mean:\",x.mean())\n",
    "print(\"median:\",x.median())\n",
    "a=x.std()\n",
    "print(\"S.D:\",a)\n",
    "print(\"variance:\",a*a)\n",
    "print(\"mode:\",x.mode())"
   ]
  },
  {
   "cell_type": "code",
   "execution_count": 16,
   "id": "ede3c6b1",
   "metadata": {},
   "outputs": [
    {
     "name": "stderr",
     "output_type": "stream",
     "text": [
      "C:\\Users\\anuna\\AppData\\Local\\Programs\\Python\\Python310\\lib\\site-packages\\numpy\\lib\\stride_tricks.py:538: VisibleDeprecationWarning: Creating an ndarray from ragged nested sequences (which is a list-or-tuple of lists-or-tuples-or ndarrays with different lengths or shapes) is deprecated. If you meant to do this, you must specify 'dtype=object' when creating the ndarray.\n",
      "  args = [np.array(_m, copy=False, subok=subok) for _m in args]\n",
      "C:\\Users\\anuna\\AppData\\Local\\Programs\\Python\\Python310\\lib\\site-packages\\numpy\\core\\fromnumeric.py:43: VisibleDeprecationWarning: Creating an ndarray from ragged nested sequences (which is a list-or-tuple of lists-or-tuples-or ndarrays with different lengths or shapes) is deprecated. If you meant to do this, you must specify 'dtype=object' when creating the ndarray.\n",
      "  result = getattr(asarray(obj), method)(*args, **kwds)\n"
     ]
    },
    {
     "data": {
      "image/png": "[encoded data removed]",
      "text/plain": [
       "<Figure size 432x288 with 1 Axes>"
      ]
     },
     "metadata": {
      "needs_background": "light"
     },
     "output_type": "display_data"
    }
   ],
   "source": [
    "import matplotlib.pyplot as plt\n",
    "import pandas as pd\n",
    "import numpy as np\n",
    "x=pd.Series([10,2,3,4,5,4,6,8])\n",
    "mean=x.mean()\n",
    "median=x.median()\n",
    "a=x.std()\n",
    "SD=a\n",
    "variance=a*a\n",
    "mode=x.mode()\n",
    "x=[0,1,2,3,4]\n",
    "y=np.array([mean,median,SD,variance,mode],dtype=object)\n",
    "plt.bar(x,y,label=\"0-mean,1-median,2-SD,3-variance,4-mode\")\n",
    "plt.legend(loc=\"upper left\")\n",
    "plt.show()"
   ]
  },
  {
   "cell_type": "code",
   "execution_count": null,
   "id": "348aae17",
   "metadata": {},
   "outputs": [],
   "source": []
  }
 ],
 "metadata": {
  "kernelspec": {
   "display_name": "Python 3 (ipykernel)",
   "language": "python",
   "name": "python3"
  },
  "language_info": {
   "codemirror_mode": {
    "name": "ipython",
    "version": 3
   },
   "file_extension": ".py",
   "mimetype": "text/x-python",
   "name": "python",
   "nbconvert_exporter": "python",
   "pygments_lexer": "ipython3",
   "version": "3.10.4"
  }
 },
 "nbformat": 4,
 "nbformat_minor": 5
}
