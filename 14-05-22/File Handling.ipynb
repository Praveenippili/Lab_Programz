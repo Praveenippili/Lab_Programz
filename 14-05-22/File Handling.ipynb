{
 "cells": [
  {
   "cell_type": "code",
   "execution_count": 1,
   "id": "64538353",
   "metadata": {},
   "outputs": [],
   "source": [
    "f=open(\"family.txt\")\n",
    "f.close()"
   ]
  },
  {
   "cell_type": "code",
   "execution_count": 2,
   "id": "d01635af",
   "metadata": {},
   "outputs": [
    {
     "name": "stdout",
     "output_type": "stream",
     "text": [
      "Anu.N\n",
      "Parimala\n",
      "2204\n",
      "@anunamala\n",
      "meena\n",
      "Teja\n"
     ]
    }
   ],
   "source": [
    "f=open(\"family.txt\",\"r\")\n",
    "print(f.read())\n",
    "f.close()"
   ]
  },
  {
   "cell_type": "code",
   "execution_count": 3,
   "id": "d5d05500",
   "metadata": {},
   "outputs": [
    {
     "name": "stdout",
     "output_type": "stream",
     "text": [
      "Anu.N\n",
      "Pari\n"
     ]
    }
   ],
   "source": [
    "f=open(\"family.txt\",\"r\")\n",
    "print(f.read(10))\n",
    "f.close()"
   ]
  },
  {
   "cell_type": "code",
   "execution_count": 4,
   "id": "c8844ce9",
   "metadata": {},
   "outputs": [
    {
     "name": "stdout",
     "output_type": "stream",
     "text": [
      "Anu.N\n",
      "\n"
     ]
    }
   ],
   "source": [
    "f=open(\"family.txt\",\"r\")\n",
    "print(f.readline())\n",
    "f.close()"
   ]
  },
  {
   "cell_type": "code",
   "execution_count": 5,
   "id": "dec7f5e1",
   "metadata": {},
   "outputs": [
    {
     "name": "stdout",
     "output_type": "stream",
     "text": [
      "Anu.N\n",
      "\n",
      "Parimala\n",
      "\n",
      "2204\n",
      "\n",
      "@anunamala\n",
      "\n"
     ]
    }
   ],
   "source": [
    "f=open(\"family.txt\",\"r\")\n",
    "print(f.readline())\n",
    "print(f.readline())\n",
    "print(f.readline())\n",
    "print(f.readline())\n",
    "f.close()"
   ]
  },
  {
   "cell_type": "code",
   "execution_count": 6,
   "id": "13653b87",
   "metadata": {},
   "outputs": [
    {
     "name": "stdout",
     "output_type": "stream",
     "text": [
      "Anu.N\n",
      "\n",
      "Parimala\n",
      "\n",
      "2204\n",
      "\n",
      "@anunamala\n",
      "\n",
      "meena\n",
      "\n",
      "Teja\n"
     ]
    }
   ],
   "source": [
    "f=open(\"family.txt\",\"r\")\n",
    "for x in f:\n",
    "    print(x)"
   ]
  },
  {
   "cell_type": "code",
   "execution_count": 7,
   "id": "4918aca7",
   "metadata": {},
   "outputs": [
    {
     "name": "stdout",
     "output_type": "stream",
     "text": [
      "Anu.N\n",
      "Parimala\n",
      "2204\n",
      "@anunamala\n",
      "meena\n",
      "Teja   This is anu namala\n"
     ]
    }
   ],
   "source": [
    "f=open(\"family.txt\",\"a\")\n",
    "f.write(\"   This is anu namala\")\n",
    "f.close()\n",
    "f=open(\"family.txt\",\"r\")\n",
    "print(f.read())"
   ]
  },
  {
   "cell_type": "code",
   "execution_count": 8,
   "id": "9a8f40fc",
   "metadata": {},
   "outputs": [
    {
     "name": "stdout",
     "output_type": "stream",
     "text": [
      "This is new content\n"
     ]
    }
   ],
   "source": [
    "f=open(\"family.txt\",\"w\")\n",
    "f.write(\"This is new content\")\n",
    "f.close()\n",
    "f=open(\"family.txt\",\"r\")\n",
    "print(f.read())"
   ]
  },
  {
   "cell_type": "code",
   "execution_count": 12,
   "id": "41cb18bc",
   "metadata": {},
   "outputs": [
    {
     "name": "stdout",
     "output_type": "stream",
     "text": [
      "File is deleted\n"
     ]
    }
   ],
   "source": [
    "import os\n",
    "os.remove(\"scrap.txt\")\n",
    "print(\"File is deleted\")"
   ]
  },
  {
   "cell_type": "markdown",
   "id": "ace79f2a",
   "metadata": {},
   "source": [
    "# 1.Swapping contents of file"
   ]
  },
  {
   "cell_type": "code",
   "execution_count": 15,
   "id": "29c77e6d",
   "metadata": {},
   "outputs": [],
   "source": [
    "file1=open(\"f1.txt\",\"r\")\n",
    "file2=open(\"f2.txt\",\"r\")\n",
    "f1=file1.read()\n",
    "f2=file2.read()\n",
    "file1=open(\"f1.txt\",\"w\")\n",
    "file2=open(\"f2.txt\",\"w\")\n",
    "file1=file1.write(f2)\n",
    "file2=file2.write(f1)"
   ]
  },
  {
   "cell_type": "markdown",
   "id": "7b39c170",
   "metadata": {},
   "source": [
    "# 2.Counting number of words in a file"
   ]
  },
  {
   "cell_type": "code",
   "execution_count": 16,
   "id": "03de64ba",
   "metadata": {},
   "outputs": [
    {
     "name": "stdout",
     "output_type": "stream",
     "text": [
      "6\n"
     ]
    }
   ],
   "source": [
    "words=0\n",
    "f1=open(\"anu.txt\",\"r\")\n",
    "data=f1.read()\n",
    "lines=data.split()\n",
    "words+=len(lines)\n",
    "print(words)"
   ]
  },
  {
   "cell_type": "markdown",
   "id": "07f2373c",
   "metadata": {},
   "source": [
    "# 3.counting upper case,lower case,Digits and special characters in a file"
   ]
  },
  {
   "cell_type": "code",
   "execution_count": 18,
   "id": "5eaac70d",
   "metadata": {},
   "outputs": [
    {
     "name": "stdout",
     "output_type": "stream",
     "text": [
      "Upper case letters: 4\n",
      "Lower case letters: 26\n",
      "Digits: 4\n",
      "Spaces: 5\n",
      "Special characters: 2\n"
     ]
    }
   ],
   "source": [
    "u=0\n",
    "l=0\n",
    "d=0\n",
    "s=0\n",
    "c=0\n",
    "f=open(\"anu.txt\",\"r\")\n",
    "data=f.read()\n",
    "for x in data:\n",
    "    if x.islower():\n",
    "        l+=1\n",
    "    elif x.isupper():\n",
    "        u+=1\n",
    "    elif x.isdigit():\n",
    "        d+=1\n",
    "    elif x.isspace():\n",
    "        s+=1\n",
    "    else:\n",
    "        c+=1\n",
    "print(\"Upper case letters:\",u)\n",
    "print(\"Lower case letters:\",l)\n",
    "print(\"Digits:\",d)\n",
    "print(\"Spaces:\",s)\n",
    "print(\"Special characters:\",c)\n"
   ]
  },
  {
   "cell_type": "code",
   "execution_count": null,
   "id": "036e865d",
   "metadata": {},
   "outputs": [],
   "source": []
  }
 ],
 "metadata": {
  "kernelspec": {
   "display_name": "Python 3 (ipykernel)",
   "language": "python",
   "name": "python3"
  },
  "language_info": {
   "codemirror_mode": {
    "name": "ipython",
    "version": 3
   },
   "file_extension": ".py",
   "mimetype": "text/x-python",
   "name": "python",
   "nbconvert_exporter": "python",
   "pygments_lexer": "ipython3",
   "version": "3.10.4"
  }
 },
 "nbformat": 4,
 "nbformat_minor": 5
}
